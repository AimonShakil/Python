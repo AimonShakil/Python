{
 "cells": [
  {
   "cell_type": "markdown",
   "metadata": {},
   "source": [
    "# String Data Type in Python\n"
   ]
  },
  {
   "cell_type": "code",
   "execution_count": 9,
   "metadata": {},
   "outputs": [],
   "source": [
    "# if need to use a apsotophy inside use double quote outside\n",
    "message : str = \"PIAIC student card /n father's name\""
   ]
  },
  {
   "cell_type": "code",
   "execution_count": null,
   "metadata": {},
   "outputs": [],
   "source": [
    "# boundaries \n",
    "# ' string ' , \" string \" ''' string  '''  \"\"\" string\"\"\""
   ]
  },
  {
   "cell_type": "code",
   "execution_count": 6,
   "metadata": {},
   "outputs": [],
   "source": [
    "# if want to use double quote inside\n",
    "message : str = 'PIAIC \"student card\" /n fathers name'"
   ]
  },
  {
   "cell_type": "code",
   "execution_count": null,
   "metadata": {},
   "outputs": [],
   "source": [
    "#convert any special character into a simple character, place \\ before character ,using this technique can put double triple quotes \n",
    "message : str = 'PIAIC student card /n father\\'s name'"
   ]
  },
  {
   "cell_type": "code",
   "execution_count": 11,
   "metadata": {},
   "outputs": [
    {
     "data": {
      "text/plain": [
       "'ab'"
      ]
     },
     "execution_count": 11,
     "metadata": {},
     "output_type": "execute_result"
    }
   ],
   "source": [
    "# if + sign is there between two characters with \"\" it concatenates\n",
    "\"a\" + \"b\""
   ]
  },
  {
   "cell_type": "code",
   "execution_count": 1,
   "metadata": {},
   "outputs": [
    {
     "data": {
      "text/plain": [
       "'abc'"
      ]
     },
     "execution_count": 1,
     "metadata": {},
     "output_type": "execute_result"
    }
   ],
   "source": [
    "# for concatination both operands should of same data type\n",
    "\"3\" + \"9\"\n",
    "\"a\" + \"b\" + \"c\""
   ]
  },
  {
   "cell_type": "code",
   "execution_count": null,
   "metadata": {},
   "outputs": [],
   "source": [
    "#two ways to make a string, first is \"\" quotes , Other method is type casting function \n",
    "#str()  Function name and brackets and whatever value/ parameter we pass , passing through that function converted to string\n",
    "\n",
    "\"a\" + str(7)"
   ]
  },
  {
   "cell_type": "markdown",
   "metadata": {},
   "source": [
    "# \"\\\\\" Line Continue\n",
    "Obsolete way"
   ]
  },
  {
   "cell_type": "code",
   "execution_count": 26,
   "metadata": {},
   "outputs": [
    {
     "name": "stdout",
     "output_type": "stream",
     "text": [
      "18\n"
     ]
    }
   ],
   "source": [
    "print(9 + 4 + 5)"
   ]
  },
  {
   "cell_type": "code",
   "execution_count": 29,
   "metadata": {},
   "outputs": [
    {
     "name": "stdout",
     "output_type": "stream",
     "text": [
      "18\n"
     ]
    }
   ],
   "source": [
    "# put forward slash after writng expression otherwise gives error\n",
    "print(9 + \\\n",
    "      4 + \\\n",
    "        5 )"
   ]
  },
  {
   "cell_type": "code",
   "execution_count": 31,
   "metadata": {},
   "outputs": [
    {
     "name": "stdout",
     "output_type": "stream",
     "text": [
      "<class 'str'>\n",
      "M Qasim\n",
      "PIAIC Student Card\n",
      "Student Name: M Qasim\n",
      "Age: 30\n",
      "Education : GenEng\n"
     ]
    }
   ],
   "source": [
    "# Boundries \n",
    "# '' , \" \" , ''' strign text''' , \"\"\"string text\"\"\" \n",
    "# Backticks `string text` in TS not in PY\n",
    "# so by combining all these variables we need to form a message or card , through concatination technique\n",
    "\n",
    "# one way is putting in string other is through type casting \n",
    "\n",
    "name : str = \"M Qasim\"\n",
    "fname : str = \"M Asim\"\n",
    "education : str = \"GenEng\"\n",
    "age : int = 30\n",
    "print(type(name))\n",
    "print(name)\n",
    "\n",
    "\n",
    "card : str = \"PIAIC Student Card\\nStudent Name: \" + name +\\\n",
    "\"\\nAge: \" + str(age) +\"\\n\"+\\\n",
    "\"Education : \" + education\n",
    "print(card)\n"
   ]
  },
  {
   "cell_type": "code",
   "execution_count": null,
   "metadata": {},
   "outputs": [],
   "source": [
    "# Complexity with above code is first also need to write in multilines using backslashes second is type converison.\n",
    "# / or changing data types\n",
    "\n",
    "# to save from this and defining multiline string or single triple quotation, there is concept Below\n",
    "\n",
    "# in triple quotation changes lines itself"
   ]
  },
  {
   "cell_type": "markdown",
   "metadata": {},
   "source": [
    "# Define Multiline string \"\"\" \"\"\", ''' '''"
   ]
  },
  {
   "cell_type": "code",
   "execution_count": 1,
   "metadata": {},
   "outputs": [
    {
     "name": "stdout",
     "output_type": "stream",
     "text": [
      " \n",
      "PIAIC Student Card\n",
      "Student Name : .....\n",
      "Father's Name : ....\n",
      "Age: ...\n",
      "Education: ...\n",
      "\n",
      "\n",
      "\n"
     ]
    }
   ],
   "source": [
    "name : str = \"M Qasim\"\n",
    "fname : str = \"M Asim\"\n",
    "education : str = \"GenEng\"\n",
    "age : int = 30\n",
    "\n",
    "card : str = \"\"\" \n",
    "PIAIC Student Card\n",
    "Student Name : .....\n",
    "Father's Name : ....\n",
    "Age: ...\n",
    "Education: ...\n",
    "\n",
    "\n",
    "\"\"\"\n",
    "print(card)"
   ]
  },
  {
   "cell_type": "markdown",
   "metadata": {},
   "source": [
    "# F-String Python"
   ]
  },
  {
   "cell_type": "code",
   "execution_count": 35,
   "metadata": {},
   "outputs": [
    {
     "name": "stdout",
     "output_type": "stream",
     "text": [
      " \n",
      "PIAIC Student Card\n",
      "Student Name : M Qasim\n",
      "Father's Name : M Asim\n",
      "Age: 30\n",
      "Education: GenEng\n",
      "\n",
      "total 473646\n",
      "\n",
      "\n"
     ]
    }
   ],
   "source": [
    "name : str = \"M Qasim\"\n",
    "fname : str = \"M Asim\"\n",
    "education : str = \"GenEng\"\n",
    "age : int = 30\n",
    "\n",
    "card : str = f\"\"\" \n",
    "PIAIC Student Card\n",
    "Student Name : {name}\n",
    "Father's Name : {fname}\n",
    "Age: {age}\n",
    "Education: {education}\n",
    "\n",
    "total {19000 +454646}\n",
    "\n",
    "\"\"\"\n",
    "print(card)"
   ]
  },
  {
   "cell_type": "markdown",
   "metadata": {},
   "source": [
    "# F-String And Jinja Style"
   ]
  },
  {
   "cell_type": "code",
   "execution_count": 2,
   "metadata": {},
   "outputs": [
    {
     "data": {
      "text/plain": [
       "' \\nStudent name : {{name}}\\n'"
      ]
     },
     "execution_count": 2,
     "metadata": {},
     "output_type": "execute_result"
    }
   ],
   "source": [
    "# Jinja Style \n",
    "\"\"\" \n",
    "Student name : {{name}}\n",
    "\"\"\""
   ]
  },
  {
   "cell_type": "markdown",
   "metadata": {},
   "source": [
    "# String Methods and Attributes\n",
    "\n"
   ]
  },
  {
   "cell_type": "code",
   "execution_count": 38,
   "metadata": {},
   "outputs": [
    {
     "data": {
      "text/plain": [
       "['capitalize',\n",
       " 'casefold',\n",
       " 'center',\n",
       " 'count',\n",
       " 'encode',\n",
       " 'endswith',\n",
       " 'expandtabs',\n",
       " 'find',\n",
       " 'format',\n",
       " 'format_map',\n",
       " 'index',\n",
       " 'isalnum',\n",
       " 'isalpha',\n",
       " 'isascii',\n",
       " 'isdecimal',\n",
       " 'isdigit',\n",
       " 'isidentifier',\n",
       " 'islower',\n",
       " 'isnumeric',\n",
       " 'isprintable',\n",
       " 'isspace',\n",
       " 'istitle',\n",
       " 'isupper',\n",
       " 'join',\n",
       " 'ljust',\n",
       " 'lower',\n",
       " 'lstrip',\n",
       " 'maketrans',\n",
       " 'partition',\n",
       " 'removeprefix',\n",
       " 'removesuffix',\n",
       " 'replace',\n",
       " 'rfind',\n",
       " 'rindex',\n",
       " 'rjust',\n",
       " 'rpartition',\n",
       " 'rsplit',\n",
       " 'rstrip',\n",
       " 'split',\n",
       " 'splitlines',\n",
       " 'startswith',\n",
       " 'strip',\n",
       " 'swapcase',\n",
       " 'title',\n",
       " 'translate',\n",
       " 'upper',\n",
       " 'zfill']"
      ]
     },
     "execution_count": 38,
     "metadata": {},
     "output_type": "execute_result"
    }
   ],
   "source": [
    "# with dir(str) it shows all methods and writing like below , basically did list comprehensive \n",
    "[i for i in dir(str) if \"__\" not in i]"
   ]
  },
  {
   "cell_type": "code",
   "execution_count": 3,
   "metadata": {},
   "outputs": [
    {
     "name": "stdout",
     "output_type": "stream",
     "text": [
      "Muhammad qasim\n",
      "muhammad qasim\n"
     ]
    }
   ],
   "source": [
    "name : str =  \"MuHaMMad QaSIm\"\n",
    "print(name.capitalize())\n",
    "print(name.lower())"
   ]
  },
  {
   "cell_type": "code",
   "execution_count": 43,
   "metadata": {},
   "outputs": [
    {
     "data": {
      "text/plain": [
       "'pakistan value a = 7 and value b = 8'"
      ]
     },
     "execution_count": 43,
     "metadata": {},
     "output_type": "execute_result"
    }
   ],
   "source": [
    "a = 7\n",
    "b = 8\n",
    "# {} place holder, from which sequence we pass values will come \n",
    "# way to call a method: variable name and . and method name.\n",
    "# Format() method is part of f string and in langchain f-string is being untilize using .format method, this is f-string\n",
    "\n",
    "#                    0               1         0,1\n",
    "\"pakistan value a = {} and value b = {}\".format(a,b)"
   ]
  },
  {
   "cell_type": "markdown",
   "metadata": {},
   "source": [
    "# Using .Format() Method"
   ]
  },
  {
   "cell_type": "code",
   "execution_count": 47,
   "metadata": {},
   "outputs": [
    {
     "name": "stdout",
     "output_type": "stream",
     "text": [
      " \n",
      "PIAIC Student Card\n",
      "Student Name : M Qasim\n",
      "Father's Name : M Asim\n",
      "Age: GenEng\n",
      "Education: 30\n",
      "\n"
     ]
    }
   ],
   "source": [
    "name : str = \"M Qasim\"\n",
    "fname : str = \"M Asim\"\n",
    "education : str = \"GenEng\"\n",
    "age : int = 30\n",
    "\n",
    "card : str = \"\"\" \n",
    "PIAIC Student Card\n",
    "Student Name : {1}\n",
    "Father's Name : {0}\n",
    "Age: {3}\n",
    "Education: {2}\n",
    "\"\"\".format(fname, name,  age,  education, age)\n",
    "#           0      1      2         3    we can set index position this way or can also a, b, c ,d\n",
    "print(card)\n",
    "# difficult method and chances of errors are there"
   ]
  },
  {
   "cell_type": "markdown",
   "metadata": {},
   "source": [
    "# Recommended below 2 F-string format"
   ]
  },
  {
   "cell_type": "code",
   "execution_count": null,
   "metadata": {},
   "outputs": [],
   "source": [
    "# Recommended Method\n",
    "name : str = \"M Qasim\"\n",
    "fname : str = \"M Asim\"\n",
    "education : str = \"GenEng\"\n",
    "age : int = 30\n",
    "\n",
    "card : str = f\"\"\" \n",
    "PIAIC Student Card\n",
    "Student Name : {name}\n",
    "Father's Name : {fname}\n",
    "Age: {age}\n",
    "Education: {education}\n",
    "\n",
    "total {19000 +454646}\n",
    "\n",
    "\"\"\"\n",
    "print(card)"
   ]
  },
  {
   "cell_type": "code",
   "execution_count": 48,
   "metadata": {},
   "outputs": [
    {
     "name": "stdout",
     "output_type": "stream",
     "text": [
      " \n",
      "PIAIC Student Card\n",
      "Student Name : M Qasim\n",
      "Father's Name : M Asim\n",
      "Age: 30\n",
      "Education: GenEng\n",
      "\n"
     ]
    }
   ],
   "source": [
    "# F-string and dot format with placeholder for templates we made in langchain uses this same technique, in prompt engineering\n",
    "# whichever variables we pass we use dotformat and self make placholder to do that \n",
    "# Recommended Method\n",
    "\n",
    "name : str = \"M Qasim\"\n",
    "fname : str = \"M Asim\"\n",
    "education : str = \"GenEng\"\n",
    "age : int = 30\n",
    "\n",
    "card : str = \"\"\" \n",
    "PIAIC Student Card\n",
    "Student Name : {a}\n",
    "Father's Name : {b}\n",
    "Age: {c}\n",
    "Education: {d}\n",
    "\"\"\".format(b = fname, a = name,  c =age,  d = education,)\n",
    "#         self placeholder\n",
    "\n",
    "#\n",
    "print(card)"
   ]
  },
  {
   "cell_type": "code",
   "execution_count": 50,
   "metadata": {},
   "outputs": [
    {
     "name": "stdout",
     "output_type": "stream",
     "text": [
      "My name Aimon\n",
      "15\n"
     ]
    }
   ],
   "source": [
    "\n",
    "# we want to run this code with execution\n",
    "student_code : str = \"\"\"\n",
    "print(\"My name Aimon\")\n",
    "a:int = 7\n",
    "b:int = 8\n",
    "print(a + b)\n",
    "\"\"\" \n",
    "exec(student_code)\n"
   ]
  },
  {
   "cell_type": "markdown",
   "metadata": {},
   "source": [
    "# Explore String Methods and Attributes\n",
    "## Pre defined Global functions covered\n",
    "* print\n",
    "* type\n",
    "* id\n",
    "* dir\n",
    "* len\n",
    "* display"
   ]
  },
  {
   "cell_type": "code",
   "execution_count": 51,
   "metadata": {},
   "outputs": [
    {
     "name": "stdout",
     "output_type": "stream",
     "text": [
      "['capitalize', 'casefold', 'center', 'count', 'encode', 'endswith', 'expandtabs', 'find', 'format', 'format_map', 'index', 'isalnum', 'isalpha', 'isascii', 'isdecimal', 'isdigit', 'isidentifier', 'islower', 'isnumeric', 'isprintable', 'isspace', 'istitle', 'isupper', 'join', 'ljust', 'lower', 'lstrip', 'maketrans', 'partition', 'removeprefix', 'removesuffix', 'replace', 'rfind', 'rindex', 'rjust', 'rpartition', 'rsplit', 'rstrip', 'split', 'splitlines', 'startswith', 'strip', 'swapcase', 'title', 'translate', 'upper', 'zfill']\n",
      "47\n"
     ]
    }
   ],
   "source": [
    "a : list[str] = [i for i in dir(str) if \"__\" not in i]\n",
    "print(a)\n",
    "print(len(a))"
   ]
  },
  {
   "cell_type": "markdown",
   "metadata": {},
   "source": [
    "# Syntax"
   ]
  },
  {
   "cell_type": "code",
   "execution_count": 52,
   "metadata": {},
   "outputs": [
    {
     "name": "stdout",
     "output_type": "stream",
     "text": [
      "M qasim\n"
     ]
    }
   ],
   "source": [
    "# variable_name.method() , so some methods takes arguments and some dont\n",
    "print(name.capitalize())"
   ]
  },
  {
   "cell_type": "code",
   "execution_count": 53,
   "metadata": {},
   "outputs": [
    {
     "name": "stdout",
     "output_type": "stream",
     "text": [
      "m qasim\n"
     ]
    }
   ],
   "source": [
    "print(name.casefold())"
   ]
  },
  {
   "cell_type": "code",
   "execution_count": 55,
   "metadata": {},
   "outputs": [
    {
     "data": {
      "text/plain": [
       "'      Tommy richard   '"
      ]
     },
     "metadata": {},
     "output_type": "display_data"
    },
    {
     "data": {
      "text/plain": [
       "'Tommy richard   '"
      ]
     },
     "metadata": {},
     "output_type": "display_data"
    }
   ],
   "source": [
    "name :str = \"      Tommy richard   \"\n",
    "display(name)\n",
    "display(name.lstrip())\n",
    "# remove extra spaces from left and rstrip from right "
   ]
  },
  {
   "cell_type": "code",
   "execution_count": 61,
   "metadata": {},
   "outputs": [
    {
     "data": {
      "text/plain": [
       "'      Tommy         richard   '"
      ]
     },
     "metadata": {},
     "output_type": "display_data"
    },
    {
     "data": {
      "text/plain": [
       "'Tommy richard'"
      ]
     },
     "metadata": {},
     "output_type": "display_data"
    }
   ],
   "source": [
    "#Extra Spaces and doing with rejex we will print and overrite, re.sub() have better, substitute and variable\n",
    "\n",
    "# Display usage advantage that in Jupyter note book any special formatting , list ,string or dictionary or data frame it shown in actual format \n",
    "# print convert in string and print . In Jupyter notebook display is more better\n",
    "\n",
    "# these techniques used in preprocessing and powerful techniques\n",
    "# Regix\n",
    "\n",
    "import re    # re means regular expression\n",
    "\n",
    "name :str = \"      Tommy         richard   \"\n",
    "display(name)\n",
    "\n",
    "name1 : str = re.sub('  {2,100}', ' ', name).strip() \n",
    "display(name1)\n",
    "\n",
    "\n"
   ]
  },
  {
   "cell_type": "code",
   "execution_count": 62,
   "metadata": {},
   "outputs": [
    {
     "name": "stdout",
     "output_type": "stream",
     "text": [
      "      Tommy         Richard   \n"
     ]
    }
   ],
   "source": [
    "print(name.title())"
   ]
  },
  {
   "cell_type": "code",
   "execution_count": 63,
   "metadata": {},
   "outputs": [
    {
     "name": "stdout",
     "output_type": "stream",
     "text": [
      "Hello,       Tommy         Richard   !\n"
     ]
    }
   ],
   "source": [
    "# \n",
    "print(f\"Hello, {name.title()}!\")"
   ]
  },
  {
   "cell_type": "code",
   "execution_count": null,
   "metadata": {},
   "outputs": [],
   "source": [
    "first_name : str = \"Am \"\n",
    "last_name : str = \"SH\"\n",
    "full_name : str = f\"{first_name}{last_name}\"\n",
    "print(full_name)"
   ]
  },
  {
   "cell_type": "code",
   "execution_count": null,
   "metadata": {},
   "outputs": [],
   "source": [
    "first_name : str = \"Am \"\n",
    "last_name : str = \"SH\"\n",
    "full_name : str = f\"{first_name}{last_name}\"\n",
    "print(f\"Hello, {full_name.title()}!\")"
   ]
  },
  {
   "cell_type": "code",
   "execution_count": null,
   "metadata": {},
   "outputs": [],
   "source": [
    "first_name : str = \"Am \"\n",
    "last_name : str = \"SH\"\n",
    "full_name : str = f\"{first_name}{last_name}\"\n",
    "message = f\"Hello, {full_name.title()}!\"\n",
    "print(message)"
   ]
  },
  {
   "cell_type": "code",
   "execution_count": 65,
   "metadata": {},
   "outputs": [
    {
     "name": "stdout",
     "output_type": "stream",
     "text": [
      "name:\n",
      "M Qasim\n"
     ]
    }
   ],
   "source": [
    "# \\t, \\n, \\b , whitespace special \n",
    "print(\"name:\\nM Qasim\")"
   ]
  },
  {
   "cell_type": "code",
   "execution_count": 2,
   "metadata": {},
   "outputs": [
    {
     "name": "stdout",
     "output_type": "stream",
     "text": [
      "Name:\t\t\t Am Cucum\n"
     ]
    }
   ],
   "source": [
    "print(\"Name:\\t\\t\\t Am Cucum\")"
   ]
  },
  {
   "cell_type": "code",
   "execution_count": 3,
   "metadata": {},
   "outputs": [
    {
     "name": "stdout",
     "output_type": "stream",
     "text": [
      "Name Am Cucum\n"
     ]
    }
   ],
   "source": [
    "print(\"Name:\\b Am Cucum\") # \\b deletes backwards"
   ]
  },
  {
   "cell_type": "code",
   "execution_count": 67,
   "metadata": {},
   "outputs": [
    {
     "data": {
      "text/plain": [
       "'langchain.com'"
      ]
     },
     "execution_count": 67,
     "metadata": {},
     "output_type": "execute_result"
    }
   ],
   "source": [
    "# Prefix and Suffix removal\n",
    "\n",
    "northstar_url : str = 'www.langchain.com'\n",
    "northstar_url.removeprefix('www.')"
   ]
  }
 ],
 "metadata": {
  "kernelspec": {
   "display_name": "Python 3",
   "language": "python",
   "name": "python3"
  },
  "language_info": {
   "codemirror_mode": {
    "name": "ipython",
    "version": 3
   },
   "file_extension": ".py",
   "mimetype": "text/x-python",
   "name": "python",
   "nbconvert_exporter": "python",
   "pygments_lexer": "ipython3",
   "version": "3.12.0"
  }
 },
 "nbformat": 4,
 "nbformat_minor": 2
}
