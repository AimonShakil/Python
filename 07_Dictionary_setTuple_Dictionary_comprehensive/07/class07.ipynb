{
 "cells": [
  {
   "cell_type": "code",
   "execution_count": null,
   "metadata": {},
   "outputs": [],
   "source": [
    "# in list and Tuple values stored on the basis of Index , from which we can not identify that on particular Index \n",
    "# which information is stored,  to overcome this issue new data type dictionary has been introduced\n",
    "\n",
    "# List\n",
    "#                    0       1           2\n",
    "data : list[str] = [\"MK\", 'Velantion', 'ck' ]"
   ]
  },
  {
   "cell_type": "markdown",
   "metadata": {},
   "source": [
    "# Set DataType\n",
    "* It make unique all dupliate types and have curly braces\n",
    "* returns Unique\n",
    "* Make in order\n",
    "* have no Key value\n",
    "* Value assign on the basis of Index\n",
    "* Indexing cannot be applied \n",
    "* Set DT has its own methods and abbributes can be seen through: [i for i in dir(data) if \"__\" not in i]"
   ]
  },
  {
   "cell_type": "code",
   "execution_count": 16,
   "metadata": {},
   "outputs": [
    {
     "data": {
      "text/plain": [
       "['add',\n",
       " 'clear',\n",
       " 'copy',\n",
       " 'difference',\n",
       " 'difference_update',\n",
       " 'discard',\n",
       " 'intersection',\n",
       " 'intersection_update',\n",
       " 'isdisjoint',\n",
       " 'issubset',\n",
       " 'issuperset',\n",
       " 'pop',\n",
       " 'remove',\n",
       " 'symmetric_difference',\n",
       " 'symmetric_difference_update',\n",
       " 'union',\n",
       " 'update']"
      ]
     },
     "execution_count": 16,
     "metadata": {},
     "output_type": "execute_result"
    }
   ],
   "source": [
    "[i for i in dir(data) if \"__\" not in i]\n",
    "# Methods & Attributes of Set"
   ]
  },
  {
   "cell_type": "code",
   "execution_count": 14,
   "metadata": {},
   "outputs": [
    {
     "name": "stdout",
     "output_type": "stream",
     "text": [
      "{1, 2, 3, 7}\n"
     ]
    }
   ],
   "source": [
    "data : set = {1, 2, 3, 7, 7, 7, 7, 7, 7,}\n",
    "print(data)"
   ]
  },
  {
   "cell_type": "markdown",
   "metadata": {},
   "source": [
    "# Data Type: Dictionary\n",
    "* Key:value (items)\n",
    "    * Key is replacement of Index\n",
    "    * Value Item\n",
    "* based on it we can make our own DB bcoz its a data structure we can make own DB and language as well\n",
    "* Dictionary is like an Object with Key and Value pair as in JS\n",
    "* Information Extraction: dict_variable[key]\n",
    "* Add New Value and Update Value: dict_variable[new_Key] = new_value\n",
    "* Big o Notation\n",
    "* Keys can be any primitive types\n"
   ]
  },
  {
   "cell_type": "code",
   "execution_count": 1,
   "metadata": {},
   "outputs": [
    {
     "data": {
      "text/plain": [
       "{\"Education: 'MFDS\", 'Father Name : Velantion', 'Name: MK'}"
      ]
     },
     "metadata": {},
     "output_type": "display_data"
    }
   ],
   "source": [
    "from typing import Dict\n",
    "data : Dict[str, str] = {\n",
    "                        \"Name: MK\",  # Key value pair makes and Item\n",
    "                        \"Father Name : Velantion\", \n",
    "                        \"Education: MFDS\"\n",
    "                        }\n",
    "display(data)"
   ]
  },
  {
   "cell_type": "markdown",
   "metadata": {},
   "source": [
    "# pprint Function\n",
    "* to display beautifuly, put spaces in key values in display etc"
   ]
  },
  {
   "cell_type": "code",
   "execution_count": 2,
   "metadata": {},
   "outputs": [
    {
     "name": "stdout",
     "output_type": "stream",
     "text": [
      "{'Father Name : Velantion', 'Name: MK', \"Education: 'MFDS\"}\n"
     ]
    }
   ],
   "source": [
    "from typing import Dict\n",
    "import pprint\n",
    "data : Dict[str, str] = {\n",
    "                        \"Name: MK\",  # Key value pair makes and Item\n",
    "                        \"Father Name : Velantion\", \n",
    "                        \"Education: 'MFDS\"\n",
    "                        }\n",
    "pprint.pprint(data)"
   ]
  },
  {
   "cell_type": "markdown",
   "metadata": {},
   "source": [
    "to get key as a number or string and values can be multiple\n",
    "Advantage of own DT is that no error is generted if key will be change"
   ]
  },
  {
   "cell_type": "code",
   "execution_count": 12,
   "metadata": {},
   "outputs": [
    {
     "name": "stdout",
     "output_type": "stream",
     "text": [
      "MK\n",
      "Velantion\n",
      "MFDS\n",
      "Pakistan\n"
     ]
    }
   ],
   "source": [
    "from typing import Dict, Union, Optional\n",
    "import pprint\n",
    "\n",
    "Key = Union[int, str] # Custom Datatype: defining a new DT for Key, In Key hashable DT can be put in \n",
    "Value = Union[int, str, list, dict, tuple] \n",
    "data : Dict[Key, Value] = {\n",
    "                        \"name\": \"MK\",  # Key value pair makes and Item\n",
    "                        \"fatherName\" : \"Velantion\", \n",
    "                        \"education\": \"MFDS\",\n",
    "                        \"100\" : \"Pakistan\"\n",
    "                        }\n",
    "print(data[\"name\"])\n",
    "print(data[\"fatherName\"])\n",
    "print(data[\"education\"])\n",
    "print(data[\"100\"])"
   ]
  },
  {
   "cell_type": "markdown",
   "metadata": {},
   "source": [
    "* Error Of Unhashable"
   ]
  },
  {
   "cell_type": "code",
   "execution_count": 13,
   "metadata": {},
   "outputs": [
    {
     "ename": "TypeError",
     "evalue": "unhashable type: 'list'",
     "output_type": "error",
     "traceback": [
      "\u001b[1;31m---------------------------------------------------------------------------\u001b[0m",
      "\u001b[1;31mTypeError\u001b[0m                                 Traceback (most recent call last)",
      "Cell \u001b[1;32mIn[13], line 6\u001b[0m\n\u001b[0;32m      4\u001b[0m Key \u001b[38;5;241m=\u001b[39m Union[\u001b[38;5;28mint\u001b[39m, \u001b[38;5;28mstr\u001b[39m] \u001b[38;5;66;03m# Custom Datatype: defining a new DT for Key, In Key hashable DT can be put in \u001b[39;00m\n\u001b[0;32m      5\u001b[0m Value \u001b[38;5;241m=\u001b[39m Union[\u001b[38;5;28mint\u001b[39m, \u001b[38;5;28mstr\u001b[39m, \u001b[38;5;28mlist\u001b[39m, \u001b[38;5;28mdict\u001b[39m, \u001b[38;5;28mtuple\u001b[39m] \n\u001b[1;32m----> 6\u001b[0m data : Dict[Key, Value] \u001b[38;5;241m=\u001b[39m {\n\u001b[0;32m      7\u001b[0m                         \u001b[38;5;124m\"\u001b[39m\u001b[38;5;124mname\u001b[39m\u001b[38;5;124m\"\u001b[39m: \u001b[38;5;124m\"\u001b[39m\u001b[38;5;124mMK\u001b[39m\u001b[38;5;124m\"\u001b[39m,  \u001b[38;5;66;03m# Key value pair makes and Item\u001b[39;00m\n\u001b[0;32m      8\u001b[0m                         \u001b[38;5;124m\"\u001b[39m\u001b[38;5;124mfatherName\u001b[39m\u001b[38;5;124m\"\u001b[39m : \u001b[38;5;124m\"\u001b[39m\u001b[38;5;124mVelantion\u001b[39m\u001b[38;5;124m\"\u001b[39m, \n\u001b[0;32m      9\u001b[0m                         \u001b[38;5;124m\"\u001b[39m\u001b[38;5;124meducation\u001b[39m\u001b[38;5;124m\"\u001b[39m: \u001b[38;5;124m\"\u001b[39m\u001b[38;5;124mMFDS\u001b[39m\u001b[38;5;124m\"\u001b[39m,\n\u001b[0;32m     10\u001b[0m                         [\u001b[38;5;241m1\u001b[39m,\u001b[38;5;241m2\u001b[39m,\u001b[38;5;241m3\u001b[39m] : \u001b[38;5;124m\"\u001b[39m\u001b[38;5;124mPakistan\u001b[39m\u001b[38;5;124m\"\u001b[39m\n\u001b[0;32m     11\u001b[0m                         }\n\u001b[0;32m     12\u001b[0m \u001b[38;5;28mprint\u001b[39m(data[\u001b[38;5;124m\"\u001b[39m\u001b[38;5;124mname\u001b[39m\u001b[38;5;124m\"\u001b[39m])\n\u001b[0;32m     13\u001b[0m \u001b[38;5;28mprint\u001b[39m(data[\u001b[38;5;124m\"\u001b[39m\u001b[38;5;124mfatherName\u001b[39m\u001b[38;5;124m\"\u001b[39m])\n",
      "\u001b[1;31mTypeError\u001b[0m: unhashable type: 'list'"
     ]
    }
   ],
   "source": [
    "from typing import Dict, Union, Optional\n",
    "import pprint\n",
    "\n",
    "Key = Union [int, str] # Custom Datatype: defining a new DT for Key, In Key hashable DT can be put in \n",
    "Value = Union [int, str, list, dict, tuple] \n",
    "data : Dict [Key, Value] = {\n",
    "                        \"name\": \"MK\",  # Key value pair makes an Item\n",
    "                        \"fatherName\" : \"Velantion\", \n",
    "                        \"education\": \"MFDS\",\n",
    "                        #[1,2,3] : \"Pakistan\" # Errorist is Unhashable type, with set displays error and any type can be stored in values \n",
    "                        #(123) : \"PK\"  Error\n",
    "                        # {1,2,3} : PK Error\n",
    "                        }\n",
    "print(data[\"name\"])\n",
    "print(data[\"fatherName\"])\n",
    "print(data[\"education\"])\n",
    "print(data[\"100\"])"
   ]
  },
  {
   "cell_type": "code",
   "execution_count": null,
   "metadata": {},
   "outputs": [],
   "source": [
    "# Hashable mean which is unique through hashable Algorithms,  it works in blockchain"
   ]
  },
  {
   "cell_type": "code",
   "execution_count": 33,
   "metadata": {},
   "outputs": [
    {
     "name": "stdout",
     "output_type": "stream",
     "text": [
      "[1, 2, 3]\n",
      "{1, 2, 3}\n",
      "(1, 2, 3)\n",
      "{'a': 1, 'b': 2, 'c': 3}\n",
      "2\n"
     ]
    }
   ],
   "source": [
    "Key = Union[int, str] # Custom Datatype: defining a new DT for Key, In Key hashable DT can be put in \n",
    "Value = Union[int, str, list, dict, tuple, set] \n",
    "data : Dict[Key, Value] = {\n",
    "                        \"abc\": [1,2,3],  # Key value pair makes an Item\n",
    "                        \"xyz\" : {1,2,3}, \n",
    "                        \"efg\": (1,2,3),\n",
    "                        \"cd\" : {\"a\" : 1, \"b\": 2, \"c\": 3}\n",
    "                         }\n",
    "print(data[\"abc\"])\n",
    "print(data[\"xyz\"])\n",
    "print(data[\"efg\"])  \n",
    "print(data[\"cd\"])\n",
    "print(data[\"cd\"]['b'])"
   ]
  },
  {
   "cell_type": "code",
   "execution_count": 19,
   "metadata": {},
   "outputs": [
    {
     "name": "stdout",
     "output_type": "stream",
     "text": [
      "{1, 2, 3, 4, 5, 6}\n",
      "[1, 2, 3, 4, 5, 6]\n"
     ]
    }
   ],
   "source": [
    "# Type Casting on set\n",
    "\n",
    "abc : set = {1, 2, 3, 4, 4, 4, 4, 5, 6}\n",
    "print(abc)\n",
    "\n",
    "xyz : list[int] = list(abc) # Typecasting\n",
    "print(xyz)"
   ]
  },
  {
   "cell_type": "markdown",
   "metadata": {},
   "source": [
    "# From Assign = Operator\n",
    "* can add new key and Values also can update"
   ]
  },
  {
   "cell_type": "code",
   "execution_count": 22,
   "metadata": {},
   "outputs": [
    {
     "name": "stdout",
     "output_type": "stream",
     "text": [
      "{'name': 'Amcucum', 'fname': 'SK'}\n"
     ]
    }
   ],
   "source": [
    "from typing import Dict, Union, Optional\n",
    "import pprint\n",
    "\n",
    "Key = Union[int, str] # Custom Datatype: defining a new DT for Key, In Key hashable DT can be put in \n",
    "Value = Union[int, str, list, dict, tuple] \n",
    "\n",
    "data: dict[Key, Value] = {}\n",
    "\n",
    "data['name'] = \"Amcucum\" # here we are adding from assign operator in already defined Dictionary\n",
    "data['fname'] = \"SK\"\n",
    "print(data)"
   ]
  },
  {
   "cell_type": "code",
   "execution_count": 24,
   "metadata": {},
   "outputs": [
    {
     "name": "stdout",
     "output_type": "stream",
     "text": [
      "{'name': 'Amcucum', 'fname': 'SK'}\n",
      "{'name': 'Amcucum', 'fname': 'sk'}\n"
     ]
    }
   ],
   "source": [
    "# Updation\n",
    "\n",
    "from typing import Dict, Union, Optional\n",
    "import pprint\n",
    "\n",
    "Key = Union[int, str] # Custom Datatype: defining a new DT for Key, In Key hashable DT can be put in \n",
    "Value = Union[int, str, list, dict, tuple] \n",
    "\n",
    "data: dict[Key, Value] = {}\n",
    "\n",
    "data['name'] = \"Amcucum\" # here we are adding from assign operator in already defined Dictionary\n",
    "data['fname'] = \"SK\"\n",
    "print(data)\n",
    "\n",
    "data['fname'] = \"sk\"\n",
    "print(data)"
   ]
  },
  {
   "cell_type": "markdown",
   "metadata": {},
   "source": [
    "# Methods and Attributes of Dictionary"
   ]
  },
  {
   "cell_type": "code",
   "execution_count": 26,
   "metadata": {},
   "outputs": [
    {
     "data": {
      "text/plain": [
       "['clear',\n",
       " 'copy',\n",
       " 'fromkeys',\n",
       " 'get',\n",
       " 'items',\n",
       " 'keys',\n",
       " 'pop',\n",
       " 'popitem',\n",
       " 'setdefault',\n",
       " 'update',\n",
       " 'values']"
      ]
     },
     "execution_count": 26,
     "metadata": {},
     "output_type": "execute_result"
    }
   ],
   "source": [
    "[i for i in dir(data) if \"__\" not in i]"
   ]
  },
  {
   "cell_type": "markdown",
   "metadata": {},
   "source": [
    "* Error Handling in Production with Get Method"
   ]
  },
  {
   "cell_type": "code",
   "execution_count": 1,
   "metadata": {},
   "outputs": [
    {
     "ename": "AttributeError",
     "evalue": "'set' object has no attribute 'get'",
     "output_type": "error",
     "traceback": [
      "\u001b[1;31m---------------------------------------------------------------------------\u001b[0m",
      "\u001b[1;31mAttributeError\u001b[0m                            Traceback (most recent call last)",
      "Cell \u001b[1;32mIn[1], line 15\u001b[0m\n\u001b[0;32m      7\u001b[0m data : Dict[Key, Value] \u001b[38;5;241m=\u001b[39m {\n\u001b[0;32m      8\u001b[0m                         \u001b[38;5;124m\"\u001b[39m\u001b[38;5;124mName: MK\u001b[39m\u001b[38;5;124m\"\u001b[39m,  \u001b[38;5;66;03m# Key value pair makes and Item\u001b[39;00m\n\u001b[0;32m      9\u001b[0m                         \u001b[38;5;124m\"\u001b[39m\u001b[38;5;124mFather Name : Velantion\u001b[39m\u001b[38;5;124m\"\u001b[39m, \n\u001b[0;32m     10\u001b[0m                         \u001b[38;5;124m\"\u001b[39m\u001b[38;5;124mEducation: \u001b[39m\u001b[38;5;124m'\u001b[39m\u001b[38;5;124mMFDS\u001b[39m\u001b[38;5;124m\"\u001b[39m\n\u001b[0;32m     11\u001b[0m                         }\n\u001b[0;32m     13\u001b[0m \u001b[38;5;66;03m#print(data['Pakistan']) # if at run times this error comes of no key found system crashes, so we have.get key\u001b[39;00m\n\u001b[0;32m     14\u001b[0m \u001b[38;5;66;03m#                   key\u001b[39;00m\n\u001b[1;32m---> 15\u001b[0m \u001b[38;5;28mprint\u001b[39m(\u001b[43mdata\u001b[49m\u001b[38;5;241;43m.\u001b[39;49m\u001b[43mget\u001b[49m(\u001b[38;5;124m'\u001b[39m\u001b[38;5;124mPakistan\u001b[39m\u001b[38;5;124m'\u001b[39m, \u001b[38;5;124m\"\u001b[39m\u001b[38;5;124mNA\u001b[39m\u001b[38;5;124m\"\u001b[39m))\n\u001b[0;32m     17\u001b[0m \u001b[38;5;66;03m# Resolve error below before push\u001b[39;00m\n",
      "\u001b[1;31mAttributeError\u001b[0m: 'set' object has no attribute 'get'"
     ]
    }
   ],
   "source": [
    "# As key value is Tuple and we can extract data from this, get function don't let generate error, v imp it wont let generate error in production\n",
    "from typing import Dict, Union, Optional\n",
    "import pprint\n",
    "\n",
    "Key = Union[int, str] # Custom Datatype: defining a new DT for Key, In Key hashable DT can be put in \n",
    "Value = Union[int, str, list, dict, tuple, set] \n",
    "data : Dict[Key, Value] = {\n",
    "                        \"Name: MK\",  # Key value pair makes and Item\n",
    "                        \"Father Name : Velantion\", \n",
    "                        \"Education: 'MFDS\"\n",
    "                         }\n",
    "\n",
    "#print(data['Pakistan']) # if at run times this error comes of no key found system crashes, so we have.get key\n",
    "#                   key\n",
    "print(data.get('Pakistan', \"NA\"))\n",
    "\n",
    "# Resolve error below before push"
   ]
  },
  {
   "cell_type": "code",
   "execution_count": 35,
   "metadata": {},
   "outputs": [
    {
     "name": "stdout",
     "output_type": "stream",
     "text": [
      "abc\n",
      "xyz\n",
      "efg\n",
      "cd\n"
     ]
    }
   ],
   "source": [
    "# Extracting Individual Keys\n",
    "\n",
    "Key = Union[int, str] # Custom Datatype: defining a new DT for Key, In Key hashable DT can be put in \n",
    "Value = Union[int, str, list, dict, tuple, set] \n",
    "data : Dict[Key, Value] = {\n",
    "                        \"abc\": [1,2,3],  # Key value pair makes and Item\n",
    "                        \"xyz\" : {1,2,3}, \n",
    "                        \"efg\": (1,2,3),\n",
    "                        \"cd\" : {\"a\" : 1, \"b\": 2, \"c\": 3}\n",
    "                        }\n",
    "\n",
    "for d in data:  \n",
    "    print(d) # Keys"
   ]
  },
  {
   "cell_type": "code",
   "execution_count": 41,
   "metadata": {},
   "outputs": [
    {
     "name": "stdout",
     "output_type": "stream",
     "text": [
      "dict_keys(['abc', 'xyz', 'efg', 'cd'])\n",
      "dict_values([[1, 2, 3], {1, 2, 3}, (1, 2, 3), {'a': 1, 'b': 2, 'c': 3}])\n",
      "dict_items([('abc', [1, 2, 3]), ('xyz', {1, 2, 3}), ('efg', (1, 2, 3)), ('cd', {'a': 1, 'b': 2, 'c': 3})])\n",
      "abc [1, 2, 3]\n",
      "xyz {1, 2, 3}\n",
      "efg (1, 2, 3)\n",
      "cd {'a': 1, 'b': 2, 'c': 3}\n"
     ]
    }
   ],
   "source": [
    "\n",
    "Key = Union[int, str] # Custom Datatype: defining a new DT for Key, In Key hashable DT can be put in \n",
    "Value = Union[int, str, list, dict, tuple, set] \n",
    "data : Dict[Key, Value] = {\n",
    "                        \"abc\": [1,2,3],  # Key value pair makes and Item\n",
    "                        \"xyz\" : {1,2,3}, \n",
    "                        \"efg\": (1,2,3),\n",
    "                        \"cd\" : {\"a\" : 1, \"b\": 2, \"c\": 3}\n",
    "                        \n",
    "                        }\n",
    "\n",
    "print(data.keys()) \n",
    "print(data.values()) # get seperated list of keys and Values \n",
    "print(data.items()) # gives list of Tuple\n",
    "\n",
    "for k in data.keys():\n",
    "    print(k, data[k])\n"
   ]
  },
  {
   "cell_type": "code",
   "execution_count": 46,
   "metadata": {},
   "outputs": [
    {
     "name": "stdout",
     "output_type": "stream",
     "text": [
      "dict_keys(['abc', 'xyz', 'efg', 'cd'])\n",
      "dict_values([[1, 2, 3], {1, 2, 3}, (1, 2, 3), {'a': 1, 'b': 2, 'c': 3}])\n",
      "dict_items([('abc', [1, 2, 3]), ('xyz', {1, 2, 3}), ('efg', (1, 2, 3)), ('cd', {'a': 1, 'b': 2, 'c': 3})])\n",
      "[1, 2, 3]\n",
      "{1, 2, 3}\n",
      "(1, 2, 3)\n",
      "{'a': 1, 'b': 2, 'c': 3}\n"
     ]
    }
   ],
   "source": [
    "\n",
    "Key = Union[int, str] # Custom Datatype: defining a new DT for Key, In Key hashable DT can be put in \n",
    "Value = Union[int, str, list, dict, tuple, set] \n",
    "data : Dict[Key, Value] = {\n",
    "                        \"abc\": [1,2,3],  # Key value pair makes and Item\n",
    "                        \"xyz\" : {1,2,3}, \n",
    "                        \"efg\": (1,2,3),\n",
    "                        \"cd\" : {\"a\" : 1, \"b\": 2, \"c\": 3}\n",
    "                        \n",
    "                        }\n",
    "\n",
    "print(data.keys()) \n",
    "print(data.values()) # get seperated list of keys and Values \n",
    "print(data.items()) # gives list of Tuple\n",
    "\n",
    "for v in data.values():\n",
    "    print(v)\n"
   ]
  },
  {
   "cell_type": "code",
   "execution_count": 48,
   "metadata": {},
   "outputs": [
    {
     "name": "stdout",
     "output_type": "stream",
     "text": [
      "dict_keys(['abc', 'xyz', 'efg', 'cd'])\n",
      "dict_values([[1, 2, 3], {1, 2, 3}, (1, 2, 3), {'a': 1, 'b': 2, 'c': 3}])\n",
      "dict_items([('abc', [1, 2, 3]), ('xyz', {1, 2, 3}), ('efg', (1, 2, 3)), ('cd', {'a': 1, 'b': 2, 'c': 3})])\n",
      "abc [1, 2, 3]\n",
      "xyz {1, 2, 3}\n",
      "efg (1, 2, 3)\n",
      "cd {'a': 1, 'b': 2, 'c': 3}\n"
     ]
    }
   ],
   "source": [
    "# Combination of above \n",
    "Key = Union[int, str] # Custom Datatype: defining a new DT for Key, In Key hashable DT can be put in \n",
    "Value = Union[int, str, list, dict, tuple, set] \n",
    "data : Dict[Key, Value] = {\n",
    "                        \"abc\": [1,2,3],  # Key value pair makes and Item\n",
    "                        \"xyz\" : {1,2,3}, \n",
    "                        \"efg\": (1,2,3),\n",
    "                        \"cd\" : {\"a\" : 1, \"b\": 2, \"c\": 3}\n",
    "                        \n",
    "                        }\n",
    "\n",
    "print(data.keys()) \n",
    "print(data.values()) # get seperated list of keys and Values \n",
    "print(data.items()) # gives list of Tuple\n",
    "\n",
    "for k, v in data.items():\n",
    "    print(k, v)"
   ]
  },
  {
   "cell_type": "code",
   "execution_count": 50,
   "metadata": {},
   "outputs": [
    {
     "data": {
      "text/plain": [
       "{'abc': [1, 2, 3],\n",
       " 'xyz': {1, 2, 3},\n",
       " 'efg': (1, 2, 3),\n",
       " 'cd': {'a': 1, 'b': 2, 'c': 3}}"
      ]
     },
     "execution_count": 50,
     "metadata": {},
     "output_type": "execute_result"
    }
   ],
   "source": [
    "# Dictinary Comprehensive\n",
    "\n",
    "{k:v for k, v in data.items()}\n"
   ]
  },
  {
   "cell_type": "code",
   "execution_count": 53,
   "metadata": {},
   "outputs": [
    {
     "data": {
      "text/plain": [
       "{'abc': [1, 2, 3],\n",
       " 'xyz': {1, 2, 3},\n",
       " 'efg': (1, 2, 3),\n",
       " 'cd': {'a': 1, 'b': 2, 'c': 3}}"
      ]
     },
     "execution_count": 53,
     "metadata": {},
     "output_type": "execute_result"
    }
   ],
   "source": [
    "# Shuffle\n",
    "{v:k for v, k in data.items()}"
   ]
  },
  {
   "cell_type": "code",
   "execution_count": 54,
   "metadata": {},
   "outputs": [
    {
     "name": "stdout",
     "output_type": "stream",
     "text": [
      "9 7\n"
     ]
    }
   ],
   "source": [
    "a : int = 7 \n",
    "b:  int = 9\n",
    "\n",
    "a,b = b,a\n",
    "print(a,b)"
   ]
  },
  {
   "cell_type": "code",
   "execution_count": 65,
   "metadata": {},
   "outputs": [
    {
     "name": "stdout",
     "output_type": "stream",
     "text": [
      "{}\n",
      "{'id': None, 'name': None, 'fname': None, 'course': None}\n"
     ]
    }
   ],
   "source": [
    "# Making a Dictionary from a list\n",
    "\n",
    "keys: list[str] = ['id', 'name', 'fname' , 'course']\n",
    "\n",
    "data : dict[Key, Value] = {}\n",
    "print(data)\n",
    "\n",
    "#data.fromkeys(keys) # inline Operation\n",
    "data = data.fromkeys(keys) # can update through this\n",
    "print(data) \n"
   ]
  }
 ],
 "metadata": {
  "kernelspec": {
   "display_name": "python12",
   "language": "python",
   "name": "python3"
  },
  "language_info": {
   "codemirror_mode": {
    "name": "ipython",
    "version": 3
   },
   "file_extension": ".py",
   "mimetype": "text/x-python",
   "name": "python",
   "nbconvert_exporter": "python",
   "pygments_lexer": "ipython3",
   "version": "3.12.0"
  }
 },
 "nbformat": 4,
 "nbformat_minor": 2
}
