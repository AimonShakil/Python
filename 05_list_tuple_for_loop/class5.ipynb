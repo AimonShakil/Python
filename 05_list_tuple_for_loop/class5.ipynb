{
 "cells": [
  {
   "cell_type": "markdown",
   "metadata": {},
   "source": [
    "# List\n",
    "* Iteration Operation with Loop\n",
    "* apply any Operation on element"
   ]
  },
  {
   "cell_type": "code",
   "execution_count": 2,
   "metadata": {},
   "outputs": [
    {
     "name": "stdout",
     "output_type": "stream",
     "text": [
      "['Sir Zia', 'M. Qasim', 'Dr. Inam']\n"
     ]
    }
   ],
   "source": [
    "names : list[str] = [\"Sir Zia\", \"M. Qasim\", \"Dr. Inam\"] \n",
    "print(names)"
   ]
  },
  {
   "cell_type": "code",
   "execution_count": null,
   "metadata": {},
   "outputs": [],
   "source": [
    "# So Practically, we make different databases in which there are username, password, email , numbers etc  with list,\n",
    "# so using iteration it search through all data and if Username and password matches we say valid user and \n",
    "# goes to login page and if not then to other\n",
    "# we make this system"
   ]
  },
  {
   "cell_type": "markdown",
   "metadata": {},
   "source": [
    "# Iteration"
   ]
  },
  {
   "cell_type": "code",
   "execution_count": 3,
   "metadata": {},
   "outputs": [
    {
     "name": "stdout",
     "output_type": "stream",
     "text": [
      "Sir Zia\n",
      "M. Qasim\n",
      "Dr. Inam\n"
     ]
    }
   ],
   "source": [
    "# How to perform Iteration \n",
    "# through loop iteration can be performed on any Iteratable data type like tuple, dictionary, list or any other\n",
    "\n",
    "# from names we want to take first value and put in a variable\n",
    "# will be making a local variable which will work in this boundry \n",
    "\n",
    "names : list[str] = [\"Sir Zia\", \"M. Qasim\", \"Dr. Inam\"] \n",
    "for name in names:   # names is single boundry and name is placeholder which is a local variable only used with in this scope\n",
    "    print(name)\n",
    "    \n",
    "# for Sir Zia in [\"Sir Zia\", \"M. Qasim\", \"Dr. Inam\"] \n",
    "# for M. Qasim in [\"M. Qasim\", \"Dr. Inam\"] \n",
    "# for Dr Inam in [\"Dr. Inam\"] \n",
    "\n",
    "# Sir Zia\n",
    "# M. qasim\n",
    "# Dr. Inam   "
   ]
  },
  {
   "cell_type": "code",
   "execution_count": null,
   "metadata": {},
   "outputs": [],
   "source": [
    "# now we to perform some operation on element\n",
    "# in list all coma seperated items are called elements weather they are string, tuple or Interger"
   ]
  },
  {
   "cell_type": "code",
   "execution_count": 4,
   "metadata": {},
   "outputs": [
    {
     "name": "stdout",
     "output_type": "stream",
     "text": [
      "Sir Zia\n",
      "M. Qasim\n",
      "Dr. Inam\n"
     ]
    }
   ],
   "source": [
    "# Looking to old way just to go through, we want to run loop till list lenght and as increase stop\n",
    "\n",
    "names = [\"Sir Zia\", \"M. Qasim\", \"Dr. Inam\"] \n",
    "\n",
    "i: int = 0\n",
    "\n",
    "while i<len(names):\n",
    "    print(names[i])\n",
    "    i += 1"
   ]
  },
  {
   "cell_type": "markdown",
   "metadata": {},
   "source": [
    "# Syntax\n",
    "for in variable in identifier: \n",
    "\n",
    "Imp to consider that Python omits curly braces concept so, after : when enter we are in one tab space \n",
    "and everything that is in it is considered as loop body part."
   ]
  },
  {
   "cell_type": "code",
   "execution_count": 4,
   "metadata": {},
   "outputs": [
    {
     "name": "stdout",
     "output_type": "stream",
     "text": [
      "Welcome Sir Zia\n",
      "Welcome M. Qasim\n",
      "Welcome Dr. Inam\n"
     ]
    }
   ],
   "source": [
    "for name in names:\n",
    "    print(f'Welcome {name.title()}')"
   ]
  },
  {
   "cell_type": "code",
   "execution_count": 6,
   "metadata": {},
   "outputs": [
    {
     "name": "stdout",
     "output_type": "stream",
     "text": [
      "Welcome Sir Zia\n",
      "PIAIC GEN AI Team\n",
      "\n",
      "Welcome M. Qasim\n",
      "PIAIC GEN AI Team\n",
      "\n",
      "Welcome Dr. Inam\n",
      "PIAIC GEN AI Team\n",
      "\n"
     ]
    }
   ],
   "source": [
    "for name in names:\n",
    "    print(f'Welcome {name.title()}')\n",
    "    print(\"PIAIC GEN AI Team\\n\") # through iteration both print happens with each itertaion"
   ]
  },
  {
   "cell_type": "code",
   "execution_count": 7,
   "metadata": {},
   "outputs": [
    {
     "name": "stdout",
     "output_type": "stream",
     "text": [
      "Welcome Sir Zia\n",
      "PIAIC GEN AI Team\n",
      "\n",
      "Welcome M. Qasim\n",
      "PIAIC GEN AI Team\n",
      "\n",
      "Welcome Dr. Inam\n",
      "PIAIC GEN AI Team\n",
      "\n",
      "pakistan\n"
     ]
    }
   ],
   "source": [
    "for name in names:\n",
    "    print(f'Welcome {name.title()}')\n",
    "    print(\"PIAIC GEN AI Team\\n\")\n",
    "print(\"pakistan\") # any statement not in indentation will not be part of iteration."
   ]
  },
  {
   "cell_type": "code",
   "execution_count": 9,
   "metadata": {},
   "outputs": [
    {
     "name": "stdout",
     "output_type": "stream",
     "text": [
      "Welcome Dr. Inam\n",
      "PIAIC GEN AI Team\n",
      "\n",
      "pakistan\n"
     ]
    }
   ],
   "source": [
    "# itertating on specific Element\n",
    "# individual Characters by just 2\n",
    "\n",
    "for name in names[2:]:  \n",
    "    print(f'Welcome {name.title()}')\n",
    "    print(\"PIAIC GEN AI Team\\n\")\n",
    "print(\"pakistan\") "
   ]
  },
  {
   "cell_type": "code",
   "execution_count": 12,
   "metadata": {},
   "outputs": [
    {
     "name": "stdout",
     "output_type": "stream",
     "text": [
      "Welcome Dr. Inam\n",
      "PIAIC GEN AI Team\n",
      "\n",
      "pakistan\n"
     ]
    }
   ],
   "source": [
    "# iterating on specific Element\n",
    "# individual Characters by just 2\n",
    "\n",
    "for name in names[: :-1]:  \n",
    "    print(f'Welcome {name.title()}') # specific methods of DT can also be applied\n",
    "    print(\"PIAIC GEN AI Team\\n\")\n",
    "print(\"pakistan\") "
   ]
  },
  {
   "cell_type": "code",
   "execution_count": 16,
   "metadata": {},
   "outputs": [
    {
     "name": "stdout",
     "output_type": "stream",
     "text": [
      "('am', '123')\n",
      "('zam', '883')\n",
      "('ik', '1445')\n"
     ]
    }
   ],
   "source": [
    "# from typing import Tuple  (can do)\n",
    "\n",
    "data_base : list[tuple[str, str]] = [(\"am\", \"123\"), (\"zam\", \"883\"), (\"ik\", \"1445\")]\n",
    "for row in data_base:\n",
    "    print(row)"
   ]
  },
  {
   "cell_type": "code",
   "execution_count": 17,
   "metadata": {},
   "outputs": [
    {
     "name": "stdout",
     "output_type": "stream",
     "text": [
      "am 123\n",
      "zam 883\n",
      "ik 1445\n"
     ]
    }
   ],
   "source": [
    "data_base : list[tuple[str, str]] = [(\"am\", \"123\"), (\"zam\", \"883\"), (\"ik\", \"1445\")]\n",
    "for row in data_base:\n",
    "    user, password = row # from tuple individual values comes in these local variables \n",
    "    print(user, password)"
   ]
  },
  {
   "cell_type": "markdown",
   "metadata": {},
   "source": [
    "# Making a Authentication System\n",
    "Asks user to enter username and password, which we match through \n",
    "this data_base variable\n",
    "if found we say valid user and if not say Invalid"
   ]
  },
  {
   "cell_type": "code",
   "execution_count": 20,
   "metadata": {},
   "outputs": [
    {
     "name": "stdout",
     "output_type": "stream",
     "text": [
      "Valid User\n",
      "am 123\n"
     ]
    }
   ],
   "source": [
    "data_base : list[tuple[str, str]] = [(\"am\", \"123\"), (\"zam\", \"883\"), (\"ik\", \"1445\")]\n",
    "\n",
    "input_user : str = input(\"Enter user Name\")\n",
    "input_password : str = input(\"Enter Password\")\n",
    "\n",
    "for row in data_base:\n",
    "    username, password = row\n",
    "    if input_user == username and input_password == password:\n",
    "        print (\"Valid User\") \n",
    "        break\n",
    "else:            # In Py we can add else block with for, while and few others\n",
    "    print(\"Not Found or Invalid User\")\n",
    "\n",
    "print(username, password)  # as we keep on building we keep on increasing authenication levels "
   ]
  },
  {
   "cell_type": "markdown",
   "metadata": {},
   "source": [
    "Python loop Scope access: It has a signinficance , that it keep last iteration and can be accessed outside loop as well. Explained in example below."
   ]
  },
  {
   "cell_type": "code",
   "execution_count": 28,
   "metadata": {},
   "outputs": [
    {
     "name": "stdout",
     "output_type": "stream",
     "text": [
      "Alice, that was a great trick!\n",
      "David, that was a great trick!\n",
      "Anna, that was a great trick!\n",
      "We cannt wait to see your next trick, Anna.\n",
      "\n"
     ]
    }
   ],
   "source": [
    "magicians : list[str] = ['alice' , 'david' , 'anna']\n",
    "for magician in magicians:\n",
    "    print(f'{magician.title()}, that was a great trick!')\n",
    "print(f'We cannt wait to see your next trick, {magician.title()}.\\n')"
   ]
  },
  {
   "cell_type": "markdown",
   "metadata": {},
   "source": [
    "Enumerate Function "
   ]
  },
  {
   "cell_type": "code",
   "execution_count": 39,
   "metadata": {},
   "outputs": [
    {
     "data": {
      "text/plain": [
       "[(0, 'alice'), (1, 'anna'), (2, 'carolina')]"
      ]
     },
     "execution_count": 39,
     "metadata": {},
     "output_type": "execute_result"
    }
   ],
   "source": [
    "# Also returns data types\n",
    "\n",
    "#                           0       1       2\n",
    "magicians : list[str] = [\"alice\" ,\"anna\", \"carolina\"]\n",
    "list(enumerate(magicians)) # gives index number with elements and returning tuple"
   ]
  },
  {
   "cell_type": "markdown",
   "metadata": {},
   "source": [
    "# Enumerate Function"
   ]
  },
  {
   "cell_type": "code",
   "execution_count": 42,
   "metadata": {},
   "outputs": [
    {
     "name": "stdout",
     "output_type": "stream",
     "text": [
      "0 alice\n",
      "1 anna\n",
      "2 carolina\n"
     ]
    }
   ],
   "source": [
    "# If we want to get above code printed\n",
    "#                           0       1        2\n",
    "magicians : list[str] = [\"alice\" ,\"anna\", \"carolina\"]\n",
    "\n",
    "# we will eliminate list function as in loop their is by default present  \n",
    "# and if we write for index, name we see that from tuple value directly unzipped here as in row, \n",
    "# and then we get them printed seperately and enumerate also returns data type index value as well  \n",
    "\n",
    "for index, name in enumerate(magicians):\n",
    "    print(index, name)\n"
   ]
  },
  {
   "cell_type": "markdown",
   "metadata": {},
   "source": [
    "# Numbers with Loop\n",
    "* 'range(start, end, step)'\n",
    "* Range is a Generartor function and we have to run the code, to make it run we have to perform Iteration on it"
   ]
  },
  {
   "cell_type": "code",
   "execution_count": 29,
   "metadata": {},
   "outputs": [
    {
     "data": {
      "text/plain": [
       "range(0, 10)"
      ]
     },
     "execution_count": 29,
     "metadata": {},
     "output_type": "execute_result"
    }
   ],
   "source": [
    "range(10)"
   ]
  },
  {
   "cell_type": "code",
   "execution_count": 30,
   "metadata": {},
   "outputs": [
    {
     "data": {
      "text/plain": [
       "[0, 1, 2, 3, 4, 5, 6, 7, 8, 9]"
      ]
     },
     "execution_count": 30,
     "metadata": {},
     "output_type": "execute_result"
    }
   ],
   "source": [
    "# itertaion has been performed\n",
    "list(range(10)) # starting = 0, ending = n-1 which is 9"
   ]
  },
  {
   "cell_type": "code",
   "execution_count": 31,
   "metadata": {},
   "outputs": [
    {
     "data": {
      "text/plain": [
       "[2, 3, 4, 5, 6, 7, 8, 9]"
      ]
     },
     "execution_count": 31,
     "metadata": {},
     "output_type": "execute_result"
    }
   ],
   "source": [
    "list(range(2,10))"
   ]
  },
  {
   "cell_type": "code",
   "execution_count": 34,
   "metadata": {},
   "outputs": [
    {
     "data": {
      "text/plain": [
       "[2, 4, 6, 8, 10, 12, 14, 16, 18, 20]"
      ]
     },
     "execution_count": 34,
     "metadata": {},
     "output_type": "execute_result"
    }
   ],
   "source": [
    "# Table of 2\n",
    "\n",
    "list(range(2, 21, 2))"
   ]
  },
  {
   "cell_type": "code",
   "execution_count": 37,
   "metadata": {},
   "outputs": [
    {
     "name": "stdout",
     "output_type": "stream",
     "text": [
      "2\n",
      "4\n",
      "6\n",
      "8\n",
      "10\n",
      "12\n",
      "14\n",
      "16\n",
      "18\n",
      "20\n"
     ]
    }
   ],
   "source": [
    "# on loop already itertaion is being performed thats why list function is not applied\n",
    "# as new put on loop it performs itertaion itself thats why list is not needed but\n",
    "# if needed to be done individually and dont want loop we can put list function directly\n",
    "\n",
    "for n in range(2,21,2): # we got individual values\n",
    "    print(n)"
   ]
  },
  {
   "cell_type": "code",
   "execution_count": 44,
   "metadata": {},
   "outputs": [
    {
     "name": "stdout",
     "output_type": "stream",
     "text": [
      "2 x 1 = 2\n",
      "2 x 2 = 4\n",
      "2 x 3 = 6\n",
      "2 x 4 = 8\n",
      "2 x 5 = 10\n",
      "2 x 6 = 12\n",
      "2 x 7 = 14\n",
      "2 x 8 = 16\n",
      "2 x 9 = 18\n",
      "2 x 10 = 20\n"
     ]
    }
   ],
   "source": [
    "for n in range(1,11):\n",
    "    print(f\"{2} x {n} = {2*n}\")"
   ]
  },
  {
   "cell_type": "code",
   "execution_count": 45,
   "metadata": {},
   "outputs": [
    {
     "name": "stdout",
     "output_type": "stream",
     "text": [
      "[1, 4, 9, 16, 25, 36, 49, 64, 81, 100]\n"
     ]
    }
   ],
   "source": [
    "squares : list[int] = []\n",
    "for value in range(1, 11):\n",
    "    square = value ** 2\n",
    "    squares.append(square)\n",
    "print(squares)\n"
   ]
  },
  {
   "cell_type": "markdown",
   "metadata": {},
   "source": [
    "# List Comprehensive\n",
    "To reduce the step above as a DS list comprehensive concept is being introduced\n",
    "    for item in items_list:\n",
    "    loop_body\n",
    "\n",
    "* Comprehensive style:  is applied on different DT\n",
    "* List Comprehensive\n",
    "* Tupple Comprehensive \n",
    "* Dictionary Comprehensive \n",
    "* As well as , if else can also be written in comprehensive style\n",
    "\n",
    "* Syntax\n",
    "* ' [loop_body  for item in items_List]' and collon not needed\n"
   ]
  },
  {
   "cell_type": "code",
   "execution_count": 46,
   "metadata": {},
   "outputs": [
    {
     "data": {
      "text/plain": [
       "[1, 2, 3, 4, 5, 6, 7, 8, 9, 10]"
      ]
     },
     "execution_count": 46,
     "metadata": {},
     "output_type": "execute_result"
    }
   ],
   "source": [
    "list (range(1,11))"
   ]
  },
  {
   "cell_type": "code",
   "execution_count": 49,
   "metadata": {},
   "outputs": [
    {
     "name": "stdout",
     "output_type": "stream",
     "text": [
      "1\n",
      "4\n",
      "9\n",
      "16\n",
      "25\n",
      "36\n",
      "49\n",
      "64\n",
      "81\n",
      "100\n"
     ]
    }
   ],
   "source": [
    "for i in range(1, 11):\n",
    "    print(i**2)"
   ]
  },
  {
   "cell_type": "code",
   "execution_count": 50,
   "metadata": {},
   "outputs": [
    {
     "data": {
      "text/plain": [
       "[1, 4, 9, 16, 25, 36, 49, 64, 81, 100]"
      ]
     },
     "execution_count": 50,
     "metadata": {},
     "output_type": "execute_result"
    }
   ],
   "source": [
    "# Above can be done in one line\n",
    "# Body place at first in list following by loop\n",
    "\n",
    "[i**2 for i in range(1,11)] "
   ]
  },
  {
   "cell_type": "markdown",
   "metadata": {},
   "source": [
    "In Jupiter NoteBook whatever is in last line get returned and thts why we can skip writing print \n",
    "it automatically prints last value , always return last line\n"
   ]
  },
  {
   "cell_type": "code",
   "execution_count": 53,
   "metadata": {},
   "outputs": [
    {
     "name": "stdout",
     "output_type": "stream",
     "text": [
      "[1, 2, 3, 4, 5, 6, 7]\n",
      "7\n",
      "1\n",
      "28\n"
     ]
    }
   ],
   "source": [
    "digits : list[int] = [1, 2, 3, 4, 5, 6, 7]\n",
    "print(digits)\n",
    "print(max(digits))\n",
    "print(min(digits))\n",
    "print(sum(digits))"
   ]
  },
  {
   "cell_type": "markdown",
   "metadata": {},
   "source": [
    "# Shallow Copy and Deep Copy\n",
    "After Slicing we always get deep copy"
   ]
  },
  {
   "cell_type": "code",
   "execution_count": 58,
   "metadata": {},
   "outputs": [
    {
     "name": "stdout",
     "output_type": "stream",
     "text": [
      "['pizza', 'falafel', 'Carrot cake']\n",
      "['Tikka', 'falafel', 'Carrot cake']\n"
     ]
    }
   ],
   "source": [
    "my_foods : list[str] = ['pizza' , 'falafel' , 'Carrot cake']\n",
    "friend_food = my_foods[:]\n",
    "\n",
    "friend_food [0] = \"Tikka\"\n",
    "\n",
    "print(my_foods) # not updated later, as when we do slicing copy called as deep copy. means individual object has been made and changes will not applied to first object\n",
    "print(friend_food)"
   ]
  },
  {
   "cell_type": "markdown",
   "metadata": {},
   "source": [
    "# Data Type : Tuples\n",
    "* Tuple is a constant which once made cannot change, and are immutable means cant append anything in also cannot be updated."
   ]
  },
  {
   "cell_type": "code",
   "execution_count": 60,
   "metadata": {},
   "outputs": [
    {
     "name": "stdout",
     "output_type": "stream",
     "text": [
      "A\n",
      "('A', 'B')\n"
     ]
    }
   ],
   "source": [
    "names : tuple[str] = ('A', 'B', 'C')\n",
    "print(names[0])\n",
    "print(names[0:2]) # tuple object doest apply item assignment"
   ]
  },
  {
   "cell_type": "code",
   "execution_count": 61,
   "metadata": {},
   "outputs": [
    {
     "name": "stdout",
     "output_type": "stream",
     "text": [
      "('Pakistan', 'B', 'C')\n"
     ]
    }
   ],
   "source": [
    "names : tuple[str] = ('A' ,'B' 'C')\n",
    "names : tuple[str] = ('Pakistan', 'B', 'C')\n",
    "print(names)"
   ]
  },
  {
   "cell_type": "code",
   "execution_count": 62,
   "metadata": {},
   "outputs": [
    {
     "name": "stdout",
     "output_type": "stream",
     "text": [
      "('A', [1, 2, 3, 20], True)\n"
     ]
    }
   ],
   "source": [
    "# can also put any DT\n",
    "from typing import Any\n",
    "data : tuple[Any] = (\"A\" , [1,2,3], True) # here at index two whole element is list and we can put append function on it\n",
    "\n",
    "data[1].append(20)\n",
    "print(data) # updated list, not tuple\n"
   ]
  }
 ],
 "metadata": {
  "kernelspec": {
   "display_name": "python12",
   "language": "python",
   "name": "python3"
  },
  "language_info": {
   "codemirror_mode": {
    "name": "ipython",
    "version": 3
   },
   "file_extension": ".py",
   "mimetype": "text/x-python",
   "name": "python",
   "nbconvert_exporter": "python",
   "pygments_lexer": "ipython3",
   "version": "3.12.0"
  }
 },
 "nbformat": 4,
 "nbformat_minor": 2
}
