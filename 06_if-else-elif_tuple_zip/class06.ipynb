{
 "cells": [
  {
   "cell_type": "markdown",
   "metadata": {},
   "source": [
    "# If Else Statements\n",
    "For taking particular decision , if else are logical control blocks , considering true nature of Block\n",
    "is significant, otherwise can understand if else logic importance. likewise Comparison operators are important.\n",
    "\n",
    "# If-else-elif\n",
    "\n",
    "Syntax\n",
    "```\n",
    "if logic:\n",
    "    True_block\n",
    "else:\n",
    "    False_Block\n",
    "```\n",
    "\n",
    "# Comprehensive If-else \n",
    "\n",
    "Syntax\n",
    "```\n",
    "True_block if logic else False_Block\n",
    "\n",
    "```\n",
    "* if\n",
    "* if-else\n",
    "* if-elif (as many)-else [wih if and associated Elif only one logic will work]"
   ]
  },
  {
   "cell_type": "code",
   "execution_count": 1,
   "metadata": {},
   "outputs": [
    {
     "name": "stdout",
     "output_type": "stream",
     "text": [
      "Pakistan\n"
     ]
    }
   ],
   "source": [
    "# By considering that logic has true and false, and run logic in a particular block means chunck of Block\n",
    "# IF else logic is very imp for authentications and logins and significiant for coding a business rules and logics \n",
    "\n",
    "\n",
    "if True: \n",
    "    print(\"Pakistan\") # this is True Block, like right after if , if we write True 1st Block runs\n",
    "else: \n",
    "    print(\"Hello world!\") # this is else block "
   ]
  },
  {
   "cell_type": "code",
   "execution_count": 3,
   "metadata": {},
   "outputs": [
    {
     "name": "stdout",
     "output_type": "stream",
     "text": [
      "Hello world!\n"
     ]
    }
   ],
   "source": [
    "if False: \n",
    "    print(\"Pakistan\") # this is False Block, like right after if , if we write False else Block runs\n",
    "else: \n",
    "    print(\"Hello world!\") # this is else block "
   ]
  },
  {
   "cell_type": "code",
   "execution_count": 4,
   "metadata": {},
   "outputs": [
    {
     "name": "stdout",
     "output_type": "stream",
     "text": [
      "Hello world!\n"
     ]
    }
   ],
   "source": [
    "# Comprehensive If else\n",
    "# True Block         logic          False Block  \n",
    "print(\"Pakistan\") if False else print(\"Hello world!\") \n"
   ]
  },
  {
   "cell_type": "code",
   "execution_count": 5,
   "metadata": {},
   "outputs": [
    {
     "name": "stdout",
     "output_type": "stream",
     "text": [
      "Pakistan\n"
     ]
    }
   ],
   "source": [
    "\n",
    "print(\"Pakistan\") if True else print(\"Hello world!\") "
   ]
  },
  {
   "cell_type": "markdown",
   "metadata": {},
   "source": [
    "# Comparison Operators\n",
    "* ==\n",
    "* `>=`\n",
    "* <=\n",
    "* !=\n",
    "# Logic\n",
    "* and\n",
    "* or\n",
    "* not"
   ]
  },
  {
   "cell_type": "code",
   "execution_count": 7,
   "metadata": {},
   "outputs": [
    {
     "name": "stdout",
     "output_type": "stream",
     "text": [
      "True\n",
      "1\n",
      "2\n"
     ]
    }
   ],
   "source": [
    "if True:\n",
    "    print(\"True\")\n",
    "elif False:\n",
    "    print(\"elif1\")\n",
    "    \n",
    "print(\"1\")\n",
    "print(\"2\")"
   ]
  },
  {
   "cell_type": "code",
   "execution_count": 8,
   "metadata": {},
   "outputs": [
    {
     "name": "stdout",
     "output_type": "stream",
     "text": [
      "1\n",
      "2\n"
     ]
    }
   ],
   "source": [
    "if False:\n",
    "    print(\"False Block\")\n",
    "\n",
    "print(\"1\")\n",
    "print(\"2\")\n",
    "\n",
    "    "
   ]
  },
  {
   "cell_type": "code",
   "execution_count": 10,
   "metadata": {},
   "outputs": [
    {
     "name": "stdout",
     "output_type": "stream",
     "text": [
      "True Block\n"
     ]
    }
   ],
   "source": [
    "if True:\n",
    "    print(\"True Block\")\n",
    "elif False:\n",
    "    print(\"Elif logical false Block\")\n",
    "elif False:\n",
    "    print(\"Elif logical false Block 2\")\n",
    "elif False:\n",
    "    print(\"Elif logical false Block 3\")\n",
    "else: \n",
    "    print(\" Final Else Block\")"
   ]
  },
  {
   "cell_type": "code",
   "execution_count": 13,
   "metadata": {},
   "outputs": [
    {
     "name": "stdout",
     "output_type": "stream",
     "text": [
      "Elif logical false Block1\n"
     ]
    }
   ],
   "source": [
    "if False:\n",
    "    print(\"True Block\")\n",
    "elif True:\n",
    "    print(\"Elif logical false Block1\")\n",
    "elif False:\n",
    "    print(\"Elif logical false Block 2\")\n",
    "elif False:\n",
    "    print(\"Elif logical false Block 3\")\n",
    "else: \n",
    "    print(\" Final Else Block\")"
   ]
  },
  {
   "cell_type": "code",
   "execution_count": 17,
   "metadata": {},
   "outputs": [
    {
     "name": "stdout",
     "output_type": "stream",
     "text": [
      "Elif logical false Block 2\n",
      "Pakistan\n",
      " Final Else Block\n",
      "Pakistan\n"
     ]
    }
   ],
   "source": [
    "# Chain 1 run only one Block \n",
    "if False:\n",
    "    print(\"True Block\")\n",
    "elif False:\n",
    "    print(\"Elif logical false Block1\")\n",
    "elif True:\n",
    "    print(\"Elif logical false Block 2\") # if both true found, will run first and out of if else chaining\n",
    "elif True:\n",
    "    print(\"Elif logical false Block 3\")\n",
    "else: \n",
    "    print(\" Final Else Block\")\n",
    "\n",
    "print(\"Pakistan\")\n",
    "\n",
    "\n",
    "# Chain 2 run only one Block \n",
    "if False:\n",
    "    print(\"True Block\")\n",
    "elif False:\n",
    "    print(\"Elif logical false Block1\")\n",
    "elif False:\n",
    "    print(\"Elif logical false Block 2\") # if both true found, will run first and out of if else chaining\n",
    "elif False:\n",
    "    print(\"Elif logical false Block 3\")\n",
    "else: \n",
    "    print(\" Final Else Block\")\n",
    "\n",
    "print(\"Pakistan\")"
   ]
  },
  {
   "cell_type": "markdown",
   "metadata": {},
   "source": [
    "# Grading System\n",
    " Making Students percentage System\n",
    "# Grading Rule\n",
    "on the basis of percentage we will update Grade"
   ]
  },
  {
   "cell_type": "code",
   "execution_count": 21,
   "metadata": {},
   "outputs": [
    {
     "name": "stdout",
     "output_type": "stream",
     "text": [
      "Dear Student your percentage is 88 now your calculated grade is:\tA+\n"
     ]
    }
   ],
   "source": [
    "from typing import Union\n",
    "per : Union[int, float] = 88  # Value is hardcoded\n",
    "grade : Union[str, None] = None\n",
    "\n",
    "if per >= 80: # this will become True and only this condition runs\n",
    "    grade = \"A+\"\n",
    "elif per >=70:\n",
    "    grade = \"A\"\n",
    "elif per >=60:\n",
    "    grade = \"B\"\n",
    "elif per >=50:\n",
    "    grade = \"C\"\n",
    "elif per >=40:\n",
    "    grade = \"D\"\n",
    "elif per >=33:\n",
    "    grade = \"E\"\n",
    "else:\n",
    "    grade = \"F\"\n",
    "print(f\"Dear Student your percentage is {per} now your calculated grade is:\\t{grade}\")"
   ]
  },
  {
   "cell_type": "code",
   "execution_count": 23,
   "metadata": {},
   "outputs": [
    {
     "name": "stdout",
     "output_type": "stream",
     "text": [
      "<class 'str'>\n",
      "8\n"
     ]
    }
   ],
   "source": [
    "a = input(\"enter percentage:\\t\")\n",
    "print(type(a)) # Input is of Type String we will typecase like below\n",
    "print(a)"
   ]
  },
  {
   "cell_type": "code",
   "execution_count": 24,
   "metadata": {},
   "outputs": [
    {
     "name": "stdout",
     "output_type": "stream",
     "text": [
      "Dear Student your percentage is 67 now your calculated grade is:\tB\n"
     ]
    }
   ],
   "source": [
    "# Making Dynamic\n",
    "\n",
    "\n",
    "per : Union[int, float] = int(input(\"Enter Your Percentage:\\t\")) # with typecast converted to number, can also put float \n",
    "# per : int | float = 88 can use \n",
    "grade : Union[str, None] = None\n",
    "#grade : Optional[str, ] = None by default none\n",
    "\n",
    "\n",
    "if per >= 80: # this will become True and only this condition runs\n",
    "    grade = \"A+\"\n",
    "elif per >=70:\n",
    "    grade = \"A\"\n",
    "elif per >=60:\n",
    "    grade = \"B\"\n",
    "elif per >=50:\n",
    "    grade = \"C\"\n",
    "elif per >=40:\n",
    "    grade = \"D\"\n",
    "elif per >=33:\n",
    "    grade = \"E\"\n",
    "else:\n",
    "    grade = \"F\"\n",
    "print(f\"Dear Student your percentage is {per} now your calculated grade is:\\t{grade}\")"
   ]
  },
  {
   "cell_type": "markdown",
   "metadata": {},
   "source": [
    "# Errors\n",
    "* Development Time Error: Syntactical Errors\n",
    "* Run Time Error : comes when run\n",
    "* Logical Error : No Intellisense, only way is through testing"
   ]
  },
  {
   "cell_type": "markdown",
   "metadata": {},
   "source": [
    "LOGICAL ERROR"
   ]
  },
  {
   "cell_type": "code",
   "execution_count": 25,
   "metadata": {},
   "outputs": [
    {
     "name": "stdout",
     "output_type": "stream",
     "text": [
      "Dear Student your percentage is 99 now your calculated grade is:\tFail\n"
     ]
    }
   ],
   "source": [
    "from typing import Union\n",
    "per : Union[int, float] = 99  # Value is hardcoded\n",
    "grade : Union[str, None] = None\n",
    "\n",
    "if per >= 0: # this will become True and only this condition runs\n",
    "# if 99 >=0 Condition is True so no other block runs\n",
    "    grade = \"Fail\"\n",
    "elif per >=33:\n",
    "    grade = \"E\"\n",
    "elif per >=44:\n",
    "    grade = \"D\"\n",
    "elif per >=66:\n",
    "    grade = \"C\"\n",
    "elif per >=77:\n",
    "    grade = \"B\"\n",
    "elif per >=90:\n",
    "    grade = \"A+\"\n",
    "else:\n",
    "    grade = \"F\"\n",
    "print(f\"Dear Student your percentage is {per} now your calculated grade is:\\t{grade}\")"
   ]
  },
  {
   "cell_type": "markdown",
   "metadata": {},
   "source": [
    "CORRECTING THIS LIGICAL ERROR and Should be done through PEMDAS Rule"
   ]
  },
  {
   "cell_type": "code",
   "execution_count": 22,
   "metadata": {},
   "outputs": [
    {
     "name": "stdout",
     "output_type": "stream",
     "text": [
      "Dear Student your percentage is 99 now your calculated grade is:\tA+\n"
     ]
    }
   ],
   "source": [
    "from typing import Union\n",
    "per : Union[int, float] = 99  # Value is hardcoded\n",
    "grade : Union[str, None] = None\n",
    "\n",
    "if (per >= 0) and (per < 33):\n",
    "# if 99 >=0 Condition is True so no other block runs\n",
    "    grade = \"Fail\"\n",
    "elif (per >=33) and (per < 40):\n",
    "    grade = \"E\"\n",
    "elif (per >=40) and (per < 50):\n",
    "    grade = \"D\"\n",
    "elif (per >=50) and (per < 60):\n",
    "    grade = \"C\"\n",
    "elif (per >=60) and (per < 70):\n",
    "    grade = \"B\"\n",
    "elif (per >=70) and (per < 80):\n",
    "    grade = \"A\"\n",
    "elif (per >=80) and (per < 100):\n",
    "    grade = \"A+\"\n",
    "else:\n",
    "    grade = \"F\"\n",
    "print(f\"Dear Student your percentage is {per} now your calculated grade is:\\t{grade}\")"
   ]
  },
  {
   "cell_type": "markdown",
   "metadata": {},
   "source": [
    "# Student Percentages\n",
    "\n",
    "https://peps.python.org/pep-0484/#tpe-aliases"
   ]
  },
  {
   "cell_type": "code",
   "execution_count": null,
   "metadata": {},
   "outputs": [],
   "source": [
    "# we can also make our custom / dynamic type\n",
    "\n",
    "# AlIAS\n",
    "\n",
    "from typing import Union\n",
    "perType = Union[float, int]\n",
    "\n",
    "percentages : list[perType] = [] # after that can simply be done as mentioned below\n",
    "\n",
    "percentages = []"
   ]
  },
  {
   "cell_type": "markdown",
   "metadata": {},
   "source": [
    "# Grade System\n",
    "* Logic Explained Thorougly"
   ]
  },
  {
   "cell_type": "code",
   "execution_count": 23,
   "metadata": {},
   "outputs": [
    {
     "name": "stdout",
     "output_type": "stream",
     "text": [
      "[88, 99.9, 50, 65, 70]\n",
      "['A+', 'A+', 'C', 'B', 'A']\n"
     ]
    }
   ],
   "source": [
    "from typing import Union\n",
    "PerType = Union[float, int]\n",
    "\n",
    "percentages : list[PerType] = [88, 99.9, 50, 65, 70] # this goes in percentages below and in per 1st value went is 88, made a local v grades, it then now checks 88 with conditons with 2 and conditons 1st is true other is false overall false not executed checked next and so on in last 88 checked with condition where both true , then form grade A+ being placed below in grade and in empty list above A+ is being inserted and one by one through process values in grades is being put in like A+ , A , appends put one by one in grade above\n",
    "\n",
    "grades : list[str] = [] # assiged Empty list, this is local variable\n",
    "\n",
    "for per in percentages: # single value is being extracted from here after we want to have a custom list naming grades above\n",
    "\n",
    "# Rule is that full logic below with run\n",
    "    grade : str = \"\"  # grade inside loop\n",
    "# Logic: when loop run picks percentage, will do grade none afterwards takes decisons then in loop \n",
    "# indentation for block we append grades it takes single grade\n",
    "# System is being made which from different data types means picks percentages and taking decison assign grade from grades  \n",
    "\n",
    "    if (per >= 0) and (per < 33):\n",
    "# if 99 >=0 Condition is True so no other block runs\n",
    "        grade = \"Fail\"\n",
    "    elif (per >=33) and (per < 40):\n",
    "        grade = \"E\"\n",
    "    elif (per >=40) and (per < 50):\n",
    "        grade = \"D\"\n",
    "    elif (per >=50) and (per < 60) :\n",
    "        grade = \"C\"\n",
    "    elif (per >=60) and (per < 70):\n",
    "        grade = \"B\"\n",
    "    elif (per >=70) and (per < 80):\n",
    "        grade = \"A\"\n",
    "    elif (per >=80) and (per < 100):\n",
    "        grade = \"A+\"\n",
    "    grades.append(grade)\n",
    "\n",
    "print(percentages)\n",
    "print(grades)\n"
   ]
  },
  {
   "cell_type": "markdown",
   "metadata": {},
   "source": [
    "ZIP FUNCTION:\n",
    "* By using Zip function of different lists of same length we can combine, concept of Zip as same index hooks get hooked together likewise of same length typle data type is available when we zip them "
   ]
  },
  {
   "cell_type": "code",
   "execution_count": null,
   "metadata": {},
   "outputs": [],
   "source": [
    "zip(percentages, grades) # as this is a generator function it work run directly, on it itreation needs to be done by putting list function on it itertaion will be performed "
   ]
  },
  {
   "cell_type": "code",
   "execution_count": 16,
   "metadata": {},
   "outputs": [
    {
     "data": {
      "text/plain": [
       "[(88, 'A+'), (99.9, 'A+'), (50, 'C'), (65, 'B'), (70, 'A')]"
      ]
     },
     "execution_count": 16,
     "metadata": {},
     "output_type": "execute_result"
    }
   ],
   "source": [
    "list(zip(percentages, grades))\n",
    "# so we got a system where each student percentages and Grades are present and zip function made a list of Tuple\n",
    "# going further DB depends on this can have roll numbers"
   ]
  },
  {
   "cell_type": "code",
   "execution_count": 17,
   "metadata": {},
   "outputs": [
    {
     "data": {
      "text/plain": [
       "[(88, 'A+', 0), (99.9, 'A+', 1), (50, 'C', 2), (65, 'B', 3), (70, 'A', 4)]"
      ]
     },
     "execution_count": 17,
     "metadata": {},
     "output_type": "execute_result"
    }
   ],
   "source": [
    "# likewise range can be added\n",
    "list(zip(percentages, grades , list(range(len(percentages)))))"
   ]
  },
  {
   "cell_type": "code",
   "execution_count": 20,
   "metadata": {},
   "outputs": [
    {
     "data": {
      "text/plain": [
       "[0, 1, 2, 3, 4]"
      ]
     },
     "execution_count": 20,
     "metadata": {},
     "output_type": "execute_result"
    }
   ],
   "source": [
    "# Generated roll numbers form percentages lenght\n",
    "roll_number: int = list(range(len(percentages)))\n",
    "roll_number"
   ]
  },
  {
   "cell_type": "code",
   "execution_count": 24,
   "metadata": {},
   "outputs": [
    {
     "data": {
      "text/plain": [
       "[(0, 88, 'A+'), (1, 99.9, 'A+'), (2, 50, 'C'), (3, 65, 'B'), (4, 70, 'A')]"
      ]
     },
     "execution_count": 24,
     "metadata": {},
     "output_type": "execute_result"
    }
   ],
   "source": [
    "list(zip(roll_number,percentages, grades))"
   ]
  },
  {
   "cell_type": "code",
   "execution_count": 26,
   "metadata": {},
   "outputs": [
    {
     "data": {
      "text/plain": [
       "[(0, 88, 'A+'), (1, 99.9, 'A+'), (2, 50, 'C'), (3, 65, 'B'), (4, 70, 'A')]"
      ]
     },
     "execution_count": 26,
     "metadata": {},
     "output_type": "execute_result"
    }
   ],
   "source": [
    "# Considering it a DB \n",
    "data_base =list(zip(roll_number,percentages, grades))\n",
    "data_base "
   ]
  },
  {
   "cell_type": "code",
   "execution_count": 27,
   "metadata": {},
   "outputs": [
    {
     "data": {
      "text/plain": [
       "[(0, 88, 'A+'), (1, 99.9, 'A+'), (2, 50, 'C'), (3, 65, 'B'), (4, 70, 'A')]"
      ]
     },
     "metadata": {},
     "output_type": "display_data"
    },
    {
     "data": {
      "text/plain": [
       "[(0, 88, 'A+'), (1, 99.9, 'A+'), (2, 50, 'C'), (3, 65, 'B'), (4, 70, 'A')]"
      ]
     },
     "execution_count": 27,
     "metadata": {},
     "output_type": "execute_result"
    }
   ],
   "source": [
    "# Consider analyzing when data is retrieving from DB and we want to analyze it in different Orders  \n",
    "# Situation: now we want that higher grades comes at first/ ascending or decending roll numbers \n",
    "# if we put sorted function on DB \n",
    "\n",
    "display(data_base)\n",
    "sorted(data_base) # sort according to indentation."
   ]
  },
  {
   "cell_type": "code",
   "execution_count": 29,
   "metadata": {},
   "outputs": [
    {
     "data": {
      "text/plain": [
       "[(0, 88, 'A+'), (1, 99.9, 'A+'), (2, 50, 'C'), (3, 65, 'B'), (4, 70, 'A')]"
      ]
     },
     "metadata": {},
     "output_type": "display_data"
    },
    {
     "data": {
      "text/plain": [
       "[(2, 50, 'C'), (3, 65, 'B'), (4, 70, 'A'), (0, 88, 'A+'), (1, 99.9, 'A+')]"
      ]
     },
     "execution_count": 29,
     "metadata": {},
     "output_type": "execute_result"
    }
   ],
   "source": [
    "# or we can sort on the basis of 2nd column that is of percentage\n",
    "# in sorted we have a paramter called as \"Key\", Key function takes a function\n",
    "\n",
    "display(data_base)\n",
    "sorted(data_base, key = lambda x:x[1]) # sorted based on 2nd coloumn Ascending\n",
    "\n"
   ]
  },
  {
   "cell_type": "code",
   "execution_count": 30,
   "metadata": {},
   "outputs": [
    {
     "data": {
      "text/plain": [
       "[(0, 88, 'A+'), (1, 99.9, 'A+'), (2, 50, 'C'), (3, 65, 'B'), (4, 70, 'A')]"
      ]
     },
     "metadata": {},
     "output_type": "display_data"
    },
    {
     "data": {
      "text/plain": [
       "[(1, 99.9, 'A+'), (0, 88, 'A+'), (4, 70, 'A'), (3, 65, 'B'), (2, 50, 'C')]"
      ]
     },
     "execution_count": 30,
     "metadata": {},
     "output_type": "execute_result"
    }
   ],
   "source": [
    "display(data_base)\n",
    "sorted(data_base, key = lambda x:x[1] , reverse=True) # sorted based on 2nd coloumn first convert ascending and then reverse"
   ]
  },
  {
   "cell_type": "code",
   "execution_count": 31,
   "metadata": {},
   "outputs": [
    {
     "name": "stdout",
     "output_type": "stream",
     "text": [
      "Audi\n",
      "BMW\n",
      "Sabru\n",
      "Toyota\n"
     ]
    }
   ],
   "source": [
    "cars : list[str] = ['audi', 'bmw', 'sabru' ,'toyota']\n",
    "for car in cars:\n",
    "    if car == 'bmw':\n",
    "        print(car.upper())\n",
    "    else:\n",
    "        print(car.title())"
   ]
  },
  {
   "cell_type": "code",
   "execution_count": 32,
   "metadata": {},
   "outputs": [
    {
     "data": {
      "text/plain": [
       "['Audi', 'BMW', 'Sabru', 'Toyota']"
      ]
     },
     "execution_count": 32,
     "metadata": {},
     "output_type": "execute_result"
    }
   ],
   "source": [
    "# with List Comprehensive \n",
    "cars : list[str] = ['audi', 'bmw', 'sabru' ,'toyota']\n",
    "[i.upper() if i=='bmw' else i.title() for i in cars]"
   ]
  },
  {
   "cell_type": "code",
   "execution_count": null,
   "metadata": {},
   "outputs": [],
   "source": [
    "# Checking Passwords if user enters in upper case and in Lowercase in DB\n",
    "\n",
    "pass = \"Aab\"\n",
    "pass.Lower() == 'aab'"
   ]
  },
  {
   "cell_type": "code",
   "execution_count": 35,
   "metadata": {},
   "outputs": [
    {
     "name": "stdout",
     "output_type": "stream",
     "text": [
      "AUDI\n",
      "BMW\n",
      "SABRU\n",
      "TOYOTA\n",
      "suzuki\n"
     ]
    }
   ],
   "source": [
    "# !\n",
    "cars : list[str] = ['audi', 'bmw', 'sabru' ,'toyota', 'suzuki']\n",
    "for car in cars: # in = extract element from iterated data types \n",
    "    if car != 'suzuki': # means else than suzuki turns all cars to uppercase\n",
    "        print(car.upper())\n",
    "    else:\n",
    "        print(car.lower())\n",
    "    \n",
    "\n"
   ]
  },
  {
   "cell_type": "code",
   "execution_count": 38,
   "metadata": {},
   "outputs": [
    {
     "name": "stdout",
     "output_type": "stream",
     "text": [
      "That is not the correct answer. pls try again!\n"
     ]
    }
   ],
   "source": [
    "answer = 17\n",
    "if answer != 24:\n",
    "    print(\"That is not the correct answer. pls try again!\")"
   ]
  },
  {
   "cell_type": "code",
   "execution_count": 39,
   "metadata": {},
   "outputs": [
    {
     "data": {
      "text/plain": [
       "False"
      ]
     },
     "execution_count": 39,
     "metadata": {},
     "output_type": "execute_result"
    }
   ],
   "source": [
    "# Multiple Check Conditions\n",
    "\n",
    "age_0 = 22\n",
    "age_1 = 18\n",
    "age_0 >=21 and age_1 >= 21"
   ]
  },
  {
   "cell_type": "code",
   "execution_count": 40,
   "metadata": {},
   "outputs": [
    {
     "data": {
      "text/plain": [
       "True"
      ]
     },
     "execution_count": 40,
     "metadata": {},
     "output_type": "execute_result"
    }
   ],
   "source": [
    "# in opertor, when placed Directly outside if- else or loop it works differently as compared to for loop which is different\n",
    "# it checks member at left side \n",
    "\n",
    "requested_toppings = ['mushrooms' , 'onions', 'pineapple']\n",
    "'mushrooms' in requested_toppings"
   ]
  },
  {
   "cell_type": "code",
   "execution_count": 42,
   "metadata": {},
   "outputs": [
    {
     "data": {
      "text/plain": [
       "True"
      ]
     },
     "execution_count": 42,
     "metadata": {},
     "output_type": "execute_result"
    }
   ],
   "source": [
    "# Example 2\n",
    "\n",
    "cars : list[str] = ['audi', 'bmw', 'sabru' ,'toyota', 'suzuki']\n",
    "'changhan' in cars # False\n",
    "'bmw' in cars # in compares left side from iterated data typesx"
   ]
  },
  {
   "cell_type": "code",
   "execution_count": 43,
   "metadata": {},
   "outputs": [
    {
     "name": "stdout",
     "output_type": "stream",
     "text": [
      "True\n"
     ]
    }
   ],
   "source": [
    "# Database System / Login System for banned usersd\n",
    "\n",
    "banned_users : list[str] = ['andrew', 'carolina', 'david']\n",
    "user : str = 'marie'\n",
    "\n",
    "print(user not in banned_users)\n",
    "# if user not in banned_users: # not in means if not in the list above then print message below\n",
    "#     print(f\"{user.title()}, you can post a response if you wish.\")"
   ]
  },
  {
   "cell_type": "code",
   "execution_count": null,
   "metadata": {},
   "outputs": [],
   "source": [
    "# Voting System\n",
    "\n",
    "age = 17\n",
    "if age >= 18:\n",
    "    print(\"you are old enough to vote \")\n",
    "    print(\" have you registered to vote yet?\")\n",
    "else:\n",
    "    print(\"Sorry you are too young to vote\")\n",
    "    Print(\"pls register to vote as you turn 18\")"
   ]
  },
  {
   "cell_type": "code",
   "execution_count": 47,
   "metadata": {},
   "outputs": [
    {
     "name": "stdout",
     "output_type": "stream",
     "text": [
      "send otp on your registered number \n",
      "Welcome to google\n"
     ]
    }
   ],
   "source": [
    "# Nested Levels of IF\n",
    "# Levels of authentications\n",
    "\n",
    "user_name : str = input(\"Enter user id: \\t\")\n",
    "user_password : str= input(\"Enter User Password:\\t\")\n",
    "\n",
    "if user_name =='admin' and user_password == 'admin':\n",
    "    print(\"send otp on your registered number \")\n",
    "    otp : str = input(\"Please Enter OTP\")\n",
    "    if otp =='123':\n",
    "        print(\"Welcome to google\")\n",
    "else:\n",
    "    print(\"Invalid user or Password\")\n",
    "\n",
    "\n"
   ]
  }
 ],
 "metadata": {
  "kernelspec": {
   "display_name": "python12",
   "language": "python",
   "name": "python3"
  },
  "language_info": {
   "codemirror_mode": {
    "name": "ipython",
    "version": 3
   },
   "file_extension": ".py",
   "mimetype": "text/x-python",
   "name": "python",
   "nbconvert_exporter": "python",
   "pygments_lexer": "ipython3",
   "version": "3.12.0"
  }
 },
 "nbformat": 4,
 "nbformat_minor": 2
}
