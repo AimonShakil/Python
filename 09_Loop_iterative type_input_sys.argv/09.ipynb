{
 "cells": [
  {
   "cell_type": "markdown",
   "metadata": {},
   "source": [
    "# Loop and Input with User\n",
    "* while\n",
    "* for\n",
    "* controls\n",
    "    * break\n",
    "    * continue\n",
    "    * pass\n",
    "* input with input function\n",
    "* input from console\n",
    "\n",
    "* Loop working on Iterative Data Types\n",
    "* list\n",
    "* Dictionary\n",
    "* tuple\n",
    "* string\n",
    "\n",
    "\n",
    "\n",
    "\n",
    "\n",
    "\n",
    "\n",
    "\n",
    "\n",
    "* will learn through py file as well for console user input, for forming packages and plugins etc"
   ]
  },
  {
   "cell_type": "code",
   "execution_count": 1,
   "metadata": {},
   "outputs": [
    {
     "name": "stdout",
     "output_type": "stream",
     "text": [
      "1\n",
      "2\n",
      "3\n",
      "4\n",
      "5\n"
     ]
    }
   ],
   "source": [
    "# Iteration with For loop, on each element \n",
    "\n",
    "li : list[int] = [1, 2, 3, 4, 5]\n",
    "for n in li:\n",
    "    print(n)\n"
   ]
  },
  {
   "cell_type": "code",
   "execution_count": 2,
   "metadata": {},
   "outputs": [
    {
     "name": "stdout",
     "output_type": "stream",
     "text": [
      "current number :1\n",
      "current number :2\n",
      "current number :3\n",
      "current number :4\n",
      "current number :5\n"
     ]
    }
   ],
   "source": [
    "l1 : list[int] = [1, 2, 3, 4, 5]\n",
    "for n in l1:\n",
    "    print(f\"current number :{n}\")"
   ]
  },
  {
   "cell_type": "code",
   "execution_count": 9,
   "metadata": {},
   "outputs": [
    {
     "name": "stdout",
     "output_type": "stream",
     "text": [
      "current number is: 1\n",
      "current number is: 2\n",
      "current number is: 3\n",
      "current number is: 4\n",
      "current number is: 5\n",
      "current number is: 6\n"
     ]
    }
   ],
   "source": [
    "# Iteration on Tuple\n",
    "\n",
    "l1 : tuple[int] = {1, 2, 3, 4, 5, 6}\n",
    "for n in l1:\n",
    "    print(f\"current number is: {n}\")"
   ]
  },
  {
   "cell_type": "code",
   "execution_count": 10,
   "metadata": {},
   "outputs": [
    {
     "name": "stdout",
     "output_type": "stream",
     "text": [
      "Current Character P\n",
      "Current Character a\n",
      "Current Character k\n",
      "Current Character i\n",
      "Current Character s\n",
      "Current Character t\n",
      "Current Character a\n",
      "Current Character n\n"
     ]
    }
   ],
   "source": [
    "# Iteration on string\n",
    "l1 : str = \"Pakistan\"\n",
    "for c in l1:\n",
    "    print(f\"Current Character: {c}\")"
   ]
  },
  {
   "cell_type": "code",
   "execution_count": 20,
   "metadata": {},
   "outputs": [
    {
     "name": "stdout",
     "output_type": "stream",
     "text": [
      "Dictionary Key is: name and Value is Amcucum\n",
      "Dictionary Key is: fname and Value is sk\n"
     ]
    }
   ],
   "source": [
    "# Iteration on Dictionary\n",
    "# in Dict Iteration perform on keys\n",
    "\n",
    "l2 : dict[str, str] = {\"name\" : \"Amcucum\",\n",
    "                       \"fname\" : \"sk\"}\n",
    "for k in l2:\n",
    "    #print(f\"Current Character: {k}\") # can putting a further Join and from keys can extract values\n",
    "    print(f\"Dictionary Key is: {k} and Value is {l2[k]}\")\n",
    "\n"
   ]
  },
  {
   "cell_type": "code",
   "execution_count": 24,
   "metadata": {},
   "outputs": [
    {
     "name": "stdout",
     "output_type": "stream",
     "text": [
      "Value from List of set: 1\n",
      "Value from List of set: 2\n",
      "Value from List of set: 3\n",
      "Value from List of set: 4\n",
      "Value from List of set: 5\n",
      "Value from List of set: 6\n"
     ]
    }
   ],
   "source": [
    "# on set Data type itertaion is not being performed and can be done throug type casting\n",
    "\n",
    "l1 : list[set[int]] = list({1, 2, 3, 4, 5, 6, 1, 1, 1,})\n",
    "for c in l1:\n",
    "    print(f\"Value from List of set: {c}\") # we get unique values"
   ]
  },
  {
   "cell_type": "markdown",
   "metadata": {},
   "source": [
    "* System for storing Values in list of list, list of Dictionary or List of Tuple\n",
    "* Architecture /  Algorithm needs to be decided by us that how values should be stored\n",
    "\n",
    "# Input From User\n",
    "* Input Function\n",
    "    * From input function Input default type = string\n",
    "* sys.argv( for console input in abc.py file) as Package being made in py file\n",
    "    * Default Type = Object (means recieved as it is at runtime)"
   ]
  },
  {
   "cell_type": "code",
   "execution_count": 28,
   "metadata": {},
   "outputs": [
    {
     "name": "stdout",
     "output_type": "stream",
     "text": [
      "<class 'str'>\n",
      "Welcome dear User Ms/Miss Am!\n"
     ]
    }
   ],
   "source": [
    "# Input Function\n",
    "\n",
    "# Same can be done in Py file for input in console\n",
    "name : str = input(\"what is Name? : \\t\" )\n",
    "print(type(name))\n",
    "print(f\"Welcome dear User Ms/Miss {name}!\") "
   ]
  },
  {
   "cell_type": "code",
   "execution_count": null,
   "metadata": {},
   "outputs": [],
   "source": [
    " # this will be done in Py file, for Pip based applications and packages we take input in console\n",
    "import sys\n",
    "\n",
    "print(\"line1\")\n",
    "print(\"line2\")\n",
    "\n",
    "print(sys.argv) # recieves object in the form of input from console"
   ]
  },
  {
   "cell_type": "code",
   "execution_count": 6,
   "metadata": {},
   "outputs": [
    {
     "name": "stdout",
     "output_type": "stream",
     "text": [
      "Welcome dear a, s/o : x\n",
      "Welcome dear b, s/o : y\n",
      "Welcome dear c, s/o : z\n"
     ]
    }
   ],
   "source": [
    "# Using Zip\n",
    "\n",
    "names: list[str] = ['a', 'b', 'c']\n",
    "fname : list [str] =['x', 'y', 'z']\n",
    "\n",
    "age : list[str] = [1, 2, 3]\n",
    "\n",
    "list(zip(names, fname, age)) # by putting list function single value is being zipped based on index\n",
    "for name, fn, ag in zip(names, fname, age):\n",
    "    print(f\"Welcome dear {name}, s/o : {fn}\")"
   ]
  },
  {
   "cell_type": "markdown",
   "metadata": {},
   "source": [
    "# While Loop\n",
    "```\n",
    "while logic : True/False\n",
    "    loop_Body # body keeps on repeating Until true\n",
    "\n",
    "```"
   ]
  },
  {
   "cell_type": "code",
   "execution_count": 9,
   "metadata": {},
   "outputs": [
    {
     "name": "stdout",
     "output_type": "stream",
     "text": [
      "current number is : 1\n",
      "current number is : 2\n",
      "current number is : 3\n",
      "current number is : 4\n",
      "current number is : 5\n",
      "current number is : 6\n",
      "current number is : 7\n",
      "current number is : 8\n",
      "current number is : 9\n"
     ]
    }
   ],
   "source": [
    "flag : bool = True\n",
    "current_number = 1\n",
    "while flag: \n",
    "    print(f\"current number is : {current_number}\")\n",
    "    current_number +=1\n",
    "\n",
    "    if current_number == 10: # flag False\n",
    "        break"
   ]
  },
  {
   "cell_type": "code",
   "execution_count": 10,
   "metadata": {},
   "outputs": [
    {
     "name": "stdout",
     "output_type": "stream",
     "text": [
      "current index is : 0 and value is 100\n",
      "current index is : 1 and value is 200\n",
      "current index is : 2 and value is 300\n"
     ]
    }
   ],
   "source": [
    "li : list [str] = [100, 200, 300]\n",
    "\n",
    "index : int = 0 \n",
    "\n",
    "while index < len(li):\n",
    "    print(f\"current index is : {index} and value is {li[index]}\")\n",
    "    index += 1"
   ]
  },
  {
   "cell_type": "markdown",
   "metadata": {},
   "source": [
    "# Console Application\n",
    "```Making Console System & taking User Input Collection```\n",
    "* Consider Building a Database Management System DBMS\n",
    "    * we want to make a system to recieve a dictionary from user via and input and keeps on recieving until we exit "
   ]
  },
  {
   "cell_type": "code",
   "execution_count": 18,
   "metadata": {},
   "outputs": [
    {
     "name": "stdout",
     "output_type": "stream",
     "text": [
      "write quite or exit to stop this program\n"
     ]
    },
    {
     "data": {
      "text/plain": [
       "[{'name': 'kl', 'education': 'kkl'}]"
      ]
     },
     "metadata": {},
     "output_type": "display_data"
    },
    {
     "name": "stdout",
     "output_type": "stream",
     "text": [
      "write quite or exit to stop this program\n"
     ]
    },
    {
     "data": {
      "text/plain": [
       "[{'name': 'kl', 'education': 'kkl'}, {'name': 'kkll', 'education': 'ggg'}]"
      ]
     },
     "metadata": {},
     "output_type": "display_data"
    },
    {
     "name": "stdout",
     "output_type": "stream",
     "text": [
      "write quite or exit to stop this program\n"
     ]
    },
    {
     "data": {
      "text/plain": [
       "[{'name': 'kl', 'education': 'kkl'},\n",
       " {'name': 'kkll', 'education': 'ggg'},\n",
       " {'name': 'hhhkk', 'education': 'kkl'}]"
      ]
     },
     "metadata": {},
     "output_type": "display_data"
    },
    {
     "name": "stdout",
     "output_type": "stream",
     "text": [
      "write quite or exit to stop this program\n"
     ]
    },
    {
     "data": {
      "text/plain": [
       "[{'name': 'kl', 'education': 'kkl'},\n",
       " {'name': 'kkll', 'education': 'ggg'},\n",
       " {'name': 'hhhkk', 'education': 'kkl'},\n",
       " {'name': 'yyyu', 'education': 'hhhhhk'}]"
      ]
     },
     "metadata": {},
     "output_type": "display_data"
    },
    {
     "name": "stdout",
     "output_type": "stream",
     "text": [
      "write quite or exit to stop this program\n"
     ]
    }
   ],
   "source": [
    "data : list[dict[str, str]] = []\n",
    "\n",
    "flag : bool = True\n",
    "\n",
    "while flag:\n",
    "    print(\"write quite or exit to stop this program\") \n",
    "    name : str = input (\" Your Good name? \\t:\")\n",
    "    education : str = input(\"Enter your education? \\t: \") # can add further here \n",
    "\n",
    "    if name in ['exit', 'quite', 'close', 'stop'] or education in ['exit', 'quite', 'close', 'stop']:\n",
    "        flag = False\n",
    "        break\n",
    "    data.append({\"name\": name,\n",
    "                \"education\" : education})\n",
    "    display(data)"
   ]
  },
  {
   "cell_type": "markdown",
   "metadata": {},
   "source": [
    "# Controls\n",
    "* break\n",
    "    * we test logic with smaller chunk of code and Break as it cost resources when perfect after that implement on whole data\n",
    "* continue\n",
    "    * Skip on specific part\n",
    "* pass"
   ]
  },
  {
   "cell_type": "code",
   "execution_count": 19,
   "metadata": {},
   "outputs": [
    {
     "name": "stdout",
     "output_type": "stream",
     "text": [
      "1\n",
      "2\n",
      "3\n",
      "4\n",
      "5\n"
     ]
    }
   ],
   "source": [
    "for i in range (1, 11):\n",
    "    print(i)\n",
    "    if i ==5:\n",
    "        break"
   ]
  },
  {
   "cell_type": "code",
   "execution_count": 20,
   "metadata": {},
   "outputs": [
    {
     "name": "stdout",
     "output_type": "stream",
     "text": [
      "1\n",
      "2\n",
      "3\n",
      "4\n",
      "6\n",
      "7\n",
      "8\n",
      "9\n",
      "10\n"
     ]
    }
   ],
   "source": [
    "for i in range(1, 11): # creating a range  from 1 to 10\n",
    "    if i ==5:\n",
    "        continue # skipping the itertaion when i is 5\n",
    "    print(i)"
   ]
  },
  {
   "cell_type": "code",
   "execution_count": 21,
   "metadata": {},
   "outputs": [],
   "source": [
    "# Pass \n",
    "\n",
    "for i in range(1, 10000):\n",
    "    pass"
   ]
  },
  {
   "cell_type": "code",
   "execution_count": 22,
   "metadata": {},
   "outputs": [],
   "source": [
    "def abc(a: int, b: int) ->int:\n",
    "    pass # skips error and move forward"
   ]
  },
  {
   "cell_type": "markdown",
   "metadata": {},
   "source": [
    "``` Book Examples ```"
   ]
  },
  {
   "cell_type": "code",
   "execution_count": 23,
   "metadata": {},
   "outputs": [
    {
     "data": {
      "text/plain": [
       "[6, 8]"
      ]
     },
     "execution_count": 23,
     "metadata": {},
     "output_type": "execute_result"
    }
   ],
   "source": [
    "# Extracting Even Numbers for list\n",
    "data : list = [1, 3, 5, 6, 7, 8]\n",
    "[i  for i in data if i % 2 == 0] # only if comes in last "
   ]
  },
  {
   "cell_type": "code",
   "execution_count": 25,
   "metadata": {},
   "outputs": [
    {
     "ename": "SyntaxError",
     "evalue": "invalid syntax (21494490.py, line 3)",
     "output_type": "error",
     "traceback": [
      "\u001b[1;36m  Cell \u001b[1;32mIn[25], line 3\u001b[1;36m\u001b[0m\n\u001b[1;33m    [i  for i in data if i%2!==0] # only if comes in last\u001b[0m\n\u001b[1;37m                              ^\u001b[0m\n\u001b[1;31mSyntaxError\u001b[0m\u001b[1;31m:\u001b[0m invalid syntax\n"
     ]
    }
   ],
   "source": [
    "# Extracting odd Numbers for list\n",
    "data : list = [1, 3, 5, 6, 7, 8]\n",
    "[i  for i in data if i%2!== 0] # only if comes in last "
   ]
  }
 ],
 "metadata": {
  "kernelspec": {
   "display_name": "python12",
   "language": "python",
   "name": "python3"
  },
  "language_info": {
   "codemirror_mode": {
    "name": "ipython",
    "version": 3
   },
   "file_extension": ".py",
   "mimetype": "text/x-python",
   "name": "python",
   "nbconvert_exporter": "python",
   "pygments_lexer": "ipython3",
   "version": "3.12.0"
  }
 },
 "nbformat": 4,
 "nbformat_minor": 2
}
