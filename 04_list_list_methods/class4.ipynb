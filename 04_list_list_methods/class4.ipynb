{
 "cells": [
  {
   "cell_type": "markdown",
   "metadata": {},
   "source": [
    "# List\n",
    "\n",
    "* Dynamic Length : as many as we can store no limit ~ Infinite\n",
    "* Identifier should be plural\n",
    "* hetrogeneous data type (Multiple Type)\n",
    "* Indexing (feature for extracting values)\n",
    "    * positive 0 to n-1\n",
    "    * Negative -1 to length\n",
    "* Slicing \n",
    "    * variable `names[start:end:step]` if we dont put any one of start end or step inside it includes all\n",
    "    * start :  int  =  include\n",
    "    * end :  int  = n-1\n",
    "    * step :  int  = sequence "
   ]
  },
  {
   "cell_type": "code",
   "execution_count": 1,
   "metadata": {},
   "outputs": [
    {
     "name": "stdout",
     "output_type": "stream",
     "text": [
      "Qasim\n",
      "Qasim\n"
     ]
    }
   ],
   "source": [
    "# Old Method\n",
    "# values or element we are  putting in are objects and of any data type and index inf left to right\n",
    "#           0       1       2     These are Index  -- Top up\n",
    "names = [\"Qasim\", \"Zia\" , \"saad\"]\n",
    "#          -3       -2      -1           -- Top bottom\n",
    "\n",
    "# this list can be call\n",
    "# values extracting can be done by 2 ways of same element either through positive or negative index\n",
    "\n",
    "print(names[0]) # qasim\n",
    "print(names[0-3]) # qasim\n"
   ]
  },
  {
   "cell_type": "code",
   "execution_count": 5,
   "metadata": {},
   "outputs": [
    {
     "name": "stdout",
     "output_type": "stream",
     "text": [
      "Sir Zia\n",
      "<class 'list'>\n",
      "<class 'str'>\n",
      "Founder of PIAIC Sir Zia\n"
     ]
    }
   ],
   "source": [
    "# New Methods\n",
    "\n",
    "# Positive and Negative Indexing\n",
    "# can add any data type in list and for type casting or static type there is a typing model like package ;: list , \n",
    "# Tuple or other data types can be placed\n",
    "\n",
    "from typing import Any\n",
    "\n",
    "#    ->                   0       1       2\n",
    "names  : list[Any] = [\"Qasim\", \"Sir Zia\", \"Sir Inam\"] #  means any data type can be placed\n",
    "#   <-                    -3      -2      -1\n",
    "\n",
    "print(names[-2])\n",
    "\n",
    "# we can also take out values and use in string\n",
    "\n",
    "print(type(names))\n",
    "print(type(names[-2]))\n",
    "\n",
    "print(f'Founder of PIAIC {names[-2]}')\n",
    "\n",
    "\n",
    "\n",
    "\n"
   ]
  },
  {
   "cell_type": "code",
   "execution_count": 9,
   "metadata": {},
   "outputs": [
    {
     "name": "stdout",
     "output_type": "stream",
     "text": [
      "<class 'list'>\n",
      "<class 'str'>\n",
      "Founder of PIAIC SIR ZIA\n"
     ]
    }
   ],
   "source": [
    "# if we want to take individual item and want to use in string\n",
    "# this can be done using F String\n",
    "\n",
    "# here its imp to know that names variable direct type will be \"List\"\n",
    "# here type of individual element in list will be string & accordingly on string .upper function can be applied \n",
    "\n",
    "\n",
    "#    ->                   0       1        2\n",
    "names  : list[Any] = [\"Qasim\", \"Sir Zia\", \"Sir Inam\"]\n",
    "#   <-                    -1      -2      -1\n",
    "\n",
    "print(type(names))\n",
    "print(type(names[-2]))\n",
    "\n",
    "print(f'Founder of PIAIC {names[-2].upper()}')"
   ]
  },
  {
   "cell_type": "code",
   "execution_count": 1,
   "metadata": {},
   "outputs": [
    {
     "name": "stdout",
     "output_type": "stream",
     "text": [
      "Sir Inam\n"
     ]
    }
   ],
   "source": [
    "#    ->                   0       1       2\n",
    "names  : list[str] = [\"Qasim\", \"Sir Zia\", \"Sir Inam\", 123] # here it don't show error we need to put in py file\n",
    "#   <-                    -1      -2      -1\n",
    "\n",
    "print(names[-2])\n"
   ]
  },
  {
   "cell_type": "code",
   "execution_count": 2,
   "metadata": {},
   "outputs": [
    {
     "name": "stdout",
     "output_type": "stream",
     "text": [
      "['A', 'B', 'C', 'D', 'E', 'F', 'G', 'H', 'I', 'J', 'K', 'L', 'M', 'N', 'O', 'P', 'Q', 'R', 'S', 'T', 'U', 'V', 'W', 'X', 'Y', 'Z']\n"
     ]
    }
   ],
   "source": [
    "# Slicing\n",
    "# Iteration is possible on list, if we put list in front of it this will perform\n",
    "\n",
    "# string is iterative data type on which iteration can be performed, it applied on abcd written in string and applied list function \n",
    "# and iterated to become single indivdual elements\n",
    "# here list is used to make \"ABCD..\" iteratable , we put list function to perform iteration\n",
    "\n",
    "\n",
    "characters : list[str] = list(\"ABCDEFGHIJKLMNOPQRSTUVWXYZ\")\n",
    "print(characters)\n",
    "\n"
   ]
  },
  {
   "cell_type": "code",
   "execution_count": 2,
   "metadata": {},
   "outputs": [
    {
     "name": "stdout",
     "output_type": "stream",
     "text": [
      "['A', 'B']\n",
      "['A', 'B']\n",
      "['A', 'B']\n",
      "['A', 'B']\n",
      "['A', 'B']\n"
     ]
    }
   ],
   "source": [
    "# when we want to extract 2 or more than 2 elemnts the concept use is Slicing\n",
    "# many methods as dataScientist can think from many perspective need to remeber start end -1 and sequencing, and slicing always move from left to right\n",
    "# and data comes from Slicing comes in list type\n",
    "\n",
    "# rules should be know to extract value from any method\n",
    "\n",
    "#                          0    1    2                                                                                                                  25\n",
    "characters : list[str] = ['A', 'B', 'C', 'D', 'E', 'F', 'G', 'H', 'I', 'J', 'K', 'L', 'M', 'N', 'O', 'P', 'Q', 'R', 'S', 'T', 'U', 'V', 'W', 'X', 'y', 'Z']\n",
    "#                         -26   -25   -24                                                                                                              - 1 \n",
    "\n",
    "# default slicing go from left to right\n",
    "print(characters[0:2]) # 0 = include : 2-1: 1\n",
    "print(characters[:2]) # not pass any number = all\n",
    "print(characters[-26:-24]) # 0= include : index 2-1 =1,  here -24 and -1 = +25 \n",
    "\n",
    "print(characters[0:2:1]) # 0 = include index 2-1= 1\n",
    "print(characters[0:2:])\n",
    "\n"
   ]
  },
  {
   "cell_type": "code",
   "execution_count": 4,
   "metadata": {},
   "outputs": [
    {
     "name": "stdout",
     "output_type": "stream",
     "text": [
      "['A', 'B', 'C', 'D', 'E', 'F', 'G', 'H', 'I', 'J', 'K', 'L', 'M', 'N', 'O', 'P', 'Q', 'R', 'S', 'T', 'U', 'V', 'W', 'X', 'y', 'Z']\n",
      "['A', 'C', 'E', 'G', 'I', 'K', 'M', 'O', 'Q', 'S', 'U', 'W', 'y']\n"
     ]
    }
   ],
   "source": [
    "\n",
    "#                          0    1    2                                                                                                                  25\n",
    "characters : list[str] = ['A', 'B', 'C', 'D', 'E', 'F', 'G', 'H', 'I', 'J', 'K', 'L', 'M', 'N', 'O', 'P', 'Q', 'R', 'S', 'T', 'U', 'V', 'W', 'X', 'y', 'Z']\n",
    "#                         -26   -25   -24                                                                                                                     - 1 \n",
    "print(characters[ : : ]) # if left empty all values will be entered\n",
    "print(characters[ : :2 ]) # step 2"
   ]
  },
  {
   "cell_type": "code",
   "execution_count": 2,
   "metadata": {},
   "outputs": [
    {
     "name": "stdout",
     "output_type": "stream",
     "text": [
      "['Z', 'y', 'X', 'W', 'V', 'U', 'T', 'S', 'R', 'Q', 'P', 'O', 'N', 'M', 'L', 'K', 'J', 'I', 'H', 'G', 'F', 'E', 'D', 'C', 'B', 'A']\n"
     ]
    }
   ],
   "source": [
    "\n",
    "#                          0    1    2                                                                                                                  25\n",
    "characters : list[str] = ['A', 'B', 'C', 'D', 'E', 'F', 'G', 'H', 'I', 'J', 'K', 'L', 'M', 'N', 'O', 'P', 'Q', 'R', 'S', 'T', 'U', 'V', 'W', 'X', 'y', 'Z']\n",
    "#                         -26   -25   -24                                                                                                                     - 1 \n",
    "print(characters[ : :-1])"
   ]
  },
  {
   "cell_type": "code",
   "execution_count": 7,
   "metadata": {},
   "outputs": [
    {
     "name": "stdout",
     "output_type": "stream",
     "text": [
      "['B', 'C', 'D', 'E']\n"
     ]
    }
   ],
   "source": [
    "#                          0    1     2   3    4    5    6    7\n",
    "characters : list[str] = ['A', 'B', 'C', 'D', 'E', 'F', 'G', 'H']\n",
    "#                          -8    -7  -6  -5   -4   -3   -2    -1\n",
    "\n",
    "print(characters[1:-3]) # index 1 to index E"
   ]
  },
  {
   "cell_type": "code",
   "execution_count": 8,
   "metadata": {},
   "outputs": [
    {
     "name": "stdout",
     "output_type": "stream",
     "text": [
      "[]\n"
     ]
    }
   ],
   "source": [
    "#                          0    1     2   3    4    5    6    7\n",
    "characters : list[str] = ['A', 'B', 'C', 'D', 'E', 'F', 'G', 'H']\n",
    "#                          -8    -7  -6  -5   -4   -3   -2    -1\n",
    "\n",
    "# iteration slicing ->\n",
    "# step -> positive\n",
    "# step <- negative if we want to change give in negative, iteration start moving in reverse\n",
    "print(characters[-2:-5]) # []empty bc moving form left to right and no -5 there"
   ]
  },
  {
   "cell_type": "code",
   "execution_count": 9,
   "metadata": {},
   "outputs": [
    {
     "name": "stdout",
     "output_type": "stream",
     "text": [
      "['G', 'F', 'E']\n"
     ]
    }
   ],
   "source": [
    "#                          0    1     2   3    4    5    6    7\n",
    "characters : list[str] = ['A', 'B', 'C', 'D', 'E', 'F', 'G', 'H']\n",
    "#                          -8    -7  -6  -5   -4   -3   -2    -1\n",
    "\n",
    "#iteration sclicing ->\n",
    "#step -> positive\n",
    "# step <- negative if we want to change give in negative, iteration start moving in reverse\n",
    "print(characters[-2:-5:-1]) # when we step -1 it start moving reverse"
   ]
  },
  {
   "cell_type": "code",
   "execution_count": null,
   "metadata": {},
   "outputs": [],
   "source": [
    "# by experting on all this slicing we can be numpy champion in world of AI and  everything , text audio video everthing converted to number\n",
    "# and slicing is the technique used to do manuplation on that data , it is most powerful feature.\n",
    "\n",
    "# In list there is Indexing, Slicig next is methods and attributes\n"
   ]
  },
  {
   "cell_type": "markdown",
   "metadata": {},
   "source": [
    "# List Methods\n",
    "Data Types are of Two Types Mutable & Immutable\n",
    "Python is Mutable --> means editable\n"
   ]
  },
  {
   "cell_type": "code",
   "execution_count": 16,
   "metadata": {},
   "outputs": [
    {
     "data": {
      "text/plain": [
       "['append',\n",
       " 'clear',\n",
       " 'copy',\n",
       " 'count',\n",
       " 'extend',\n",
       " 'index',\n",
       " 'insert',\n",
       " 'pop',\n",
       " 'remove',\n",
       " 'reverse',\n",
       " 'sort']"
      ]
     },
     "execution_count": 16,
     "metadata": {},
     "output_type": "execute_result"
    }
   ],
   "source": [
    "[i for i in dir(list) if \"__\" not in i]"
   ]
  },
  {
   "cell_type": "markdown",
   "metadata": {},
   "source": [
    "# Help  : how to take help in Python\n",
    "* help(object)\n",
    "* object?\n",
    "* object??\n",
    "* ?object\n",
    "* ??object"
   ]
  },
  {
   "cell_type": "code",
   "execution_count": 11,
   "metadata": {},
   "outputs": [
    {
     "name": "stdout",
     "output_type": "stream",
     "text": [
      "['Qasim', 'Sir Zia', 'Sir Inam', 123]\n",
      "['M. Qasim', 'Sir Zia', 'Sir Inam', 123]\n"
     ]
    }
   ],
   "source": [
    "#    ->                   0       1       2\n",
    "names  : list[str] = [\"Qasim\", \"Sir Zia\", \"Sir Inam\", 123] # here it don't show error we need to put in py file\n",
    "#   <-                    -1      -2      -1\n",
    "\n",
    "print(names)\n",
    "\n",
    "names[0] = \"M. Qasim\" # pyhton is mutable means -> editable\n",
    "print(names)    "
   ]
  },
  {
   "cell_type": "code",
   "execution_count": 13,
   "metadata": {},
   "outputs": [
    {
     "name": "stdout",
     "output_type": "stream",
     "text": [
      "['Qasim', 'Sir Zia', 'Sir Inam', 20, 123]\n",
      "['Qasim', 'Sir Zia', 'Sir Inam', 123]\n"
     ]
    }
   ],
   "source": [
    "# deleting element from Index\n",
    "#    ->                   0       1       2\n",
    "names  : list[str] = [\"Qasim\", \"Sir Zia\", \"Sir Inam\", 20, 123] # here it don't show error we need to put in py file\n",
    "#   <-                    -1      -2      -1\n",
    "\n",
    "print(names)\n",
    "\n",
    "del names[3] # or can be -1 , it del 20 , Problem is Deleted value can not be stored any where as delete keyword dont return\n",
    "print(names)\n"
   ]
  },
  {
   "cell_type": "code",
   "execution_count": 14,
   "metadata": {},
   "outputs": [
    {
     "name": "stdout",
     "output_type": "stream",
     "text": [
      "Pakistan\n"
     ]
    },
    {
     "data": {
      "text/plain": [
       "None"
      ]
     },
     "metadata": {},
     "output_type": "display_data"
    }
   ],
   "source": [
    "# return means that whatever answer comes we can put in a variable\n",
    "\n",
    "a: str = print(\"Pakistan\") # print is a non return function and value does not store in variable\n",
    "display(a)\n",
    "\n"
   ]
  },
  {
   "cell_type": "code",
   "execution_count": 4,
   "metadata": {},
   "outputs": [
    {
     "name": "stdout",
     "output_type": "stream",
     "text": [
      "3078599916128\n"
     ]
    }
   ],
   "source": [
    "# with ID we can store in a avariable\n",
    "names : str = \"Am Cucum\",\n",
    "a : str = id(names)  # return function, if a variable can store a value function is return\n",
    "print(a)"
   ]
  },
  {
   "cell_type": "markdown",
   "metadata": {},
   "source": [
    "# POP Method"
   ]
  },
  {
   "cell_type": "code",
   "execution_count": 18,
   "metadata": {},
   "outputs": [
    {
     "name": "stdout",
     "output_type": "stream",
     "text": [
      "['Qasim', 'Sir Zia', 'Sir Inam', 123]\n"
     ]
    }
   ],
   "source": [
    "# deleting element from Index and storing using Pop method\n",
    "#    ->                   0       1       2\n",
    "names  : list[str] = [\"Qasim\", \"Sir Zia\", \"Sir Inam\", 20, 123] # here it don't show error we need to put in py file\n",
    "#   <-                    -1      -2      -1\n",
    "\n",
    "del names[3] # here we can't store deleted values\n",
    "print(names)"
   ]
  },
  {
   "cell_type": "code",
   "execution_count": 6,
   "metadata": {},
   "outputs": [
    {
     "name": "stdout",
     "output_type": "stream",
     "text": [
      "['Qasim', 'Sir Zia', 'Sir Inam', 20, 123]\n",
      "123\n"
     ]
    }
   ],
   "source": [
    "#    ->                   0       1       2\n",
    "names  : list[str] = [\"Qasim\", \"Sir Zia\", \"Sir Inam\", 20, 123] \n",
    "#   <-                    -1      -2      -1\n",
    "\n",
    "print(names)\n",
    "a : str = names.pop() # Pop is return method: removes values from last, in last present 123 that returned in A variable\n",
    "print(a)"
   ]
  },
  {
   "cell_type": "code",
   "execution_count": 8,
   "metadata": {},
   "outputs": [
    {
     "name": "stdout",
     "output_type": "stream",
     "text": [
      "['Qasim', 'Sir Zia', 'Sir Inam', 20, 123]\n",
      "Sir Inam\n",
      "['Qasim', 'Sir Zia', 20, 123]\n"
     ]
    }
   ],
   "source": [
    "# POP Function at Particular Index\n",
    "\n",
    "# practical exp is to do list put completed items in seperate variable list\n",
    "#    ->                   0       1       2\n",
    "names  : list[str] = [\"Qasim\", \"Sir Zia\", \"Sir Inam\", 20, 123] # here it don't show error we need to put in py file\n",
    "#   <-                    -1      -2      -1\n",
    "print(names)\n",
    "a : str = names.pop(2) # pop return Method , it deletes and we can store that element in a variable, at a particular index\n",
    "print(a)\n",
    "print(names)\n"
   ]
  },
  {
   "cell_type": "code",
   "execution_count": 22,
   "metadata": {},
   "outputs": [
    {
     "name": "stdout",
     "output_type": "stream",
     "text": [
      "Pak Zindabad\n",
      "None\n"
     ]
    }
   ],
   "source": [
    "print(print(\"Pak Zindabad\")) # print is non return function"
   ]
  },
  {
   "cell_type": "markdown",
   "metadata": {},
   "source": [
    "# Append Method"
   ]
  },
  {
   "cell_type": "code",
   "execution_count": 24,
   "metadata": {},
   "outputs": [
    {
     "name": "stdout",
     "output_type": "stream",
     "text": [
      "['Sir Zia', 'Sir Inam', 'M.Arslan']\n"
     ]
    }
   ],
   "source": [
    "# Updating value and Inserting Value\n",
    "\n",
    "# Using Append method its adds elements in last\n",
    "\n",
    "names : list[str] = []\n",
    "\n",
    "names.append(\"Sir Zia\") \n",
    "names.append(\"Sir Inam\")\n",
    "names.append(\"M.Arslan\")\n",
    "\n",
    "print(names)"
   ]
  },
  {
   "cell_type": "markdown",
   "metadata": {},
   "source": [
    "# Insert Method\n"
   ]
  },
  {
   "cell_type": "code",
   "execution_count": 27,
   "metadata": {},
   "outputs": [
    {
     "name": "stdout",
     "output_type": "stream",
     "text": [
      "['a', 'Qasim', 'b', 'c', 'd', 'e']\n"
     ]
    }
   ],
   "source": [
    "name : list[str] = ['a', 'b', 'c', 'd', 'e']  \n",
    "name.insert(1, \"Qasim\")  # insert on a particular position \n",
    "print(name)"
   ]
  },
  {
   "cell_type": "markdown",
   "metadata": {},
   "source": [
    "# Clear Method"
   ]
  },
  {
   "cell_type": "code",
   "execution_count": 9,
   "metadata": {},
   "outputs": [
    {
     "ename": "NameError",
     "evalue": "name 'a' is not defined",
     "output_type": "error",
     "traceback": [
      "\u001b[1;31m---------------------------------------------------------------------------\u001b[0m",
      "\u001b[1;31mNameError\u001b[0m                                 Traceback (most recent call last)",
      "Cell \u001b[1;32mIn[9], line 3\u001b[0m\n\u001b[0;32m      1\u001b[0m a : \u001b[38;5;28mlist\u001b[39m[\u001b[38;5;28mstr\u001b[39m] \u001b[38;5;241m=\u001b[39m [\u001b[38;5;241m1\u001b[39m,\u001b[38;5;241m2\u001b[39m,\u001b[38;5;241m3\u001b[39m]\n\u001b[0;32m      2\u001b[0m \u001b[38;5;28;01mdel\u001b[39;00m a  \u001b[38;5;66;03m# writng del a removes variable a from memory and shows name error, here it removes Object\u001b[39;00m\n\u001b[1;32m----> 3\u001b[0m \u001b[38;5;28mprint\u001b[39m(\u001b[43ma\u001b[49m)\n",
      "\u001b[1;31mNameError\u001b[0m: name 'a' is not defined"
     ]
    }
   ],
   "source": [
    "a : list[str] = [1,2,3]\n",
    "del a  # writng del a removes variable a from memory and shows name error, here it removes Object\n",
    "print(a)"
   ]
  },
  {
   "cell_type": "code",
   "execution_count": 30,
   "metadata": {},
   "outputs": [
    {
     "name": "stdout",
     "output_type": "stream",
     "text": [
      "[]\n"
     ]
    }
   ],
   "source": [
    "# so when we want that just data will be removed and object remains\n",
    "\n",
    "a : list[int] = [1,2,3]\n",
    "a.clear()  # instead of writng del a we need to write a. clear it retains variable. gives empty list as values removes \n",
    "print(a)\n"
   ]
  },
  {
   "cell_type": "markdown",
   "metadata": {},
   "source": [
    "# Copy Method"
   ]
  },
  {
   "cell_type": "code",
   "execution_count": 32,
   "metadata": {},
   "outputs": [
    {
     "name": "stdout",
     "output_type": "stream",
     "text": [
      "['a', 'b', 'c']\n",
      "['a', 'b', 'c']\n",
      "['Pakistan', 'b', 'c']\n",
      "['Pakistan', 'b', 'c']\n"
     ]
    }
   ],
   "source": [
    "a : list[str] = ['a', 'b', 'c']   \n",
    "b = a # shallow copy / copy by reference happended \n",
    "\n",
    "print(a)\n",
    "print(b)\n",
    "\n",
    "b[0] = 'Pakistan' # change only b variable but both updated\n",
    "\n",
    "print(a)\n",
    "print(b)"
   ]
  },
  {
   "cell_type": "code",
   "execution_count": 35,
   "metadata": {},
   "outputs": [
    {
     "name": "stdout",
     "output_type": "stream",
     "text": [
      "a ['a', 'b', 'c']\n",
      "b ['a', 'b', 'c']\n",
      "['a', 'b', 'c']\n",
      "['Pakistan', 'b', 'c']\n"
     ]
    }
   ],
   "source": [
    "# to get rid of this \n",
    "\n",
    "a : list[str] = ['a', 'b', 'c']\n",
    "b = a.copy() # deep copy and only changes in b variable returns new list\n",
    "\n",
    "print(\"a\", a)\n",
    "print(\"b\", b)\n",
    "\n",
    "b[0] = 'Pakistan' # change only b variable but both updated\n",
    "\n",
    "print(a)\n",
    "print(b)"
   ]
  },
  {
   "cell_type": "markdown",
   "metadata": {},
   "source": [
    "# Count Method"
   ]
  },
  {
   "cell_type": "code",
   "execution_count": 36,
   "metadata": {},
   "outputs": [
    {
     "name": "stdout",
     "output_type": "stream",
     "text": [
      "2\n"
     ]
    }
   ],
   "source": [
    "# It counts\n",
    "\n",
    "names : list[str] = ['a', 'a', 'a', 'b', 'c', 'c']\n",
    "\n",
    "print(names.count(\"c\"))"
   ]
  },
  {
   "cell_type": "markdown",
   "metadata": {},
   "source": [
    "# Extend Method"
   ]
  },
  {
   "cell_type": "code",
   "execution_count": 39,
   "metadata": {},
   "outputs": [
    {
     "data": {
      "text/plain": [
       "['Sir Zia', 'M. Qasim', ['sir Inam', 'Dr. Noman']]"
      ]
     },
     "execution_count": 39,
     "metadata": {},
     "output_type": "execute_result"
    }
   ],
   "source": [
    "names : list[str] = [\"Sir Zia\", \"M. Qasim\"] #GenAi founder memebers name : list[str] = [\"am\" \"AI\"]\n",
    "\n",
    "new_facultymemebers : list[str] = ['sir Inam', \"Dr. Noman\"] new_Fac: str[str] \n",
    "\n",
    "# now want to join both lists\n",
    "\n",
    "names.append(new_facultymemebers)\n",
    "\n",
    "names # here added as a list but we want to add as an element at index, as appends adds at last Index as it is as a list"
   ]
  },
  {
   "cell_type": "code",
   "execution_count": 40,
   "metadata": {},
   "outputs": [
    {
     "data": {
      "text/plain": [
       "['Sir Zia', 'M. Qasim', 'sir Inam', 'Dr. Noman']"
      ]
     },
     "execution_count": 40,
     "metadata": {},
     "output_type": "execute_result"
    }
   ],
   "source": [
    "# so we use Extend\n",
    "# usecase: want to add new faculty memebers into names List\n",
    "\n",
    "names : list[str] = [\"Sir Zia\", \"M. Qasim\"] # GenAi founder members\n",
    "\n",
    "new_facultymemebers : list[str] = ['sir Inam', \"Dr. Noman\"]\n",
    "\n",
    "# now want to join both lists\n",
    "\n",
    "names.extend(new_facultymemebers) # it adds as individual elements \n",
    "\n",
    "names # hereadded as an element"
   ]
  },
  {
   "cell_type": "markdown",
   "metadata": {},
   "source": [
    "# Remove Method"
   ]
  },
  {
   "cell_type": "code",
   "execution_count": 43,
   "metadata": {},
   "outputs": [
    {
     "name": "stdout",
     "output_type": "stream",
     "text": [
      "['Sir Zia', 'sir Inam', 'Dr. Noman']\n"
     ]
    }
   ],
   "source": [
    "# here we want to remove\n",
    "\n",
    "names : list[str] = ['Sir Zia', 'M. Qasim', 'Sir Inam', 'Dr. Noman']\n",
    "names.remove(\"M. Qasim\")\n",
    "print(names)"
   ]
  },
  {
   "cell_type": "code",
   "execution_count": 56,
   "metadata": {},
   "outputs": [
    {
     "name": "stdout",
     "output_type": "stream",
     "text": [
      "['Sir Zia', 'Dr. Noman']\n"
     ]
    }
   ],
   "source": [
    "# Multiple remove\n",
    "\n",
    "names : list[str] = ['Sir Zia', 'M. Qasim', 'sir Inam', 'Dr. Noman']\n",
    "\n",
    "del names[1: 3]\n",
    "print(names)"
   ]
  },
  {
   "cell_type": "markdown",
   "metadata": {},
   "source": [
    "# Index Method"
   ]
  },
  {
   "cell_type": "code",
   "execution_count": 46,
   "metadata": {},
   "outputs": [
    {
     "name": "stdout",
     "output_type": "stream",
     "text": [
      "1\n"
     ]
    }
   ],
   "source": [
    "# also we can find Index number with \n",
    "\n",
    "names : list[str] = ['Sir Zia', 'M. Qasim', 'sir Inam', 'Dr. Noman']\n",
    "print(names.index(\"M. Qasim\"))"
   ]
  },
  {
   "cell_type": "code",
   "execution_count": 10,
   "metadata": {},
   "outputs": [
    {
     "name": "stdout",
     "output_type": "stream",
     "text": [
      "1\n"
     ]
    }
   ],
   "source": [
    "# Imp : if same Element occurs two times it always gives first occurance\n",
    "\n",
    "names : list[str] = ['Sir Zia', 'M. Qasim', 'sir Inam', 'Dr. Noman', 'M. Qasim']\n",
    "print(names.index(\"M. Qasim\")) # 1"
   ]
  },
  {
   "cell_type": "code",
   "execution_count": 3,
   "metadata": {},
   "outputs": [
    {
     "name": "stdout",
     "output_type": "stream",
     "text": [
      "4\n"
     ]
    }
   ],
   "source": [
    "\n",
    "\n",
    "# Imp : if same Element occurs two times it always gives first occurance\n",
    "\n",
    "names : list[str] = ['Sir Zia', 'M. Qasim', 'sir Inam', 'Dr. Noman', 'M. Qasim']\n",
    "print(names.index(\"M. Qasim\", 2))\n"
   ]
  },
  {
   "cell_type": "markdown",
   "metadata": {},
   "source": [
    "# Reverse Method"
   ]
  },
  {
   "cell_type": "code",
   "execution_count": 50,
   "metadata": {},
   "outputs": [
    {
     "name": "stdout",
     "output_type": "stream",
     "text": [
      "['Sir Zia', 'M. Qasim', 'sir Inam', 'Dr. Noman', 'M. Qasim']\n",
      "['M. Qasim', 'Dr. Noman', 'sir Inam', 'M. Qasim', 'Sir Zia']\n"
     ]
    }
   ],
   "source": [
    "# one function is inline and one is in Memory = changes real data\n",
    "names : list[str] = ['Sir Zia', 'M. Qasim', 'sir Inam', 'Dr. Noman', 'M. Qasim']\n",
    "print(names)\n",
    "names.reverse() # in memory = change real data get updated in physical memory real time, \n",
    "print(names)"
   ]
  },
  {
   "cell_type": "markdown",
   "metadata": {},
   "source": [
    "# Sort Method"
   ]
  },
  {
   "cell_type": "code",
   "execution_count": 53,
   "metadata": {},
   "outputs": [
    {
     "name": "stdout",
     "output_type": "stream",
     "text": [
      "['A', 'B', 'C', 'D', 'E', 'F']\n",
      "['A', 'B', 'C', 'D', 'E', 'F']\n"
     ]
    }
   ],
   "source": [
    "# sort in ascending\n",
    "\n",
    "names : list[str] = list('ABCDEF')\n",
    "print(names)\n",
    "names.sort() # this will sort in ascending order and sorted in memory = change real data sort, changes real values in ascending\n",
    "print(names)"
   ]
  },
  {
   "cell_type": "code",
   "execution_count": 54,
   "metadata": {},
   "outputs": [
    {
     "name": "stdout",
     "output_type": "stream",
     "text": [
      "['A', 'B', 'C', 'D', 'E', 'F']\n",
      "['F', 'E', 'D', 'C', 'B', 'A']\n"
     ]
    }
   ],
   "source": [
    "# Sort in decending\n",
    "\n",
    "names : list[str] = list('ABCDEF')\n",
    "print(names)\n",
    "names.sort(reverse=True)\n",
    "print(names)"
   ]
  }
 ],
 "metadata": {
  "kernelspec": {
   "display_name": "python12",
   "language": "python",
   "name": "python3"
  },
  "language_info": {
   "codemirror_mode": {
    "name": "ipython",
    "version": 3
   },
   "file_extension": ".py",
   "mimetype": "text/x-python",
   "name": "python",
   "nbconvert_exporter": "python",
   "pygments_lexer": "ipython3",
   "version": "3.12.0"
  }
 },
 "nbformat": 4,
 "nbformat_minor": 2
}
