{
 "cells": [
  {
   "cell_type": "markdown",
   "metadata": {},
   "source": [
    "# Functions\n",
    "* Save from repetitive code\n",
    "    * Predefined Functions: made by community, provided in language\n",
    "    * User Defined Functions: Custom/ user defined Functions, for particular event or time\n",
    "\n",
    "## Similar Properties on Both Types\n",
    "* Return and Non-Return function\n",
    "    * Return\n",
    "        * we can assign this function output to any variable\n",
    "    * Non-Return Function\n",
    "        * Only run and value can't be assigned to a variable\n",
    "\n",
    "## Components of Functions\n",
    "    1. Function declaration / Function Signature\n",
    "        * Function name\n",
    "        * Parameters\n",
    "            * param : type\n",
    "        * Return Output Type\n",
    "    2. Function Body\n",
    "        * Any Business logic\n",
    "    3. function calling\n",
    "        * function name (arguments)\n",
    "        * Function can also be called through Keys\n",
    "\n",
    "### Function Syntax\n",
    "```\n",
    "Function Declaration: def function name (param1: type, param2 : type, ...  ) ->Return_type:\n",
    "Body:     function body\n",
    "Calling: function_name(arg 1 , arg 2)\n",
    "```\n",
    "\n",
    "### Lambda/ Anonymous Function Syntax:\n",
    "\n",
    "* One line function\n",
    "* without name function\n",
    "* only use in this line\n",
    "\n",
    "```\n",
    "lambda param1, param2 : function body\n",
    "\n",
    "```\n",
    "\n"
   ]
  },
  {
   "cell_type": "markdown",
   "metadata": {},
   "source": [
    "# Pre-defined functions List\n",
    "* Print\n",
    "* len\n",
    "* id\n",
    "* dir\n",
    "* chr\n",
    "* exec\n",
    "* ord"
   ]
  },
  {
   "cell_type": "markdown",
   "metadata": {},
   "source": [
    "# Return and Non Return Functions"
   ]
  },
  {
   "cell_type": "markdown",
   "metadata": {},
   "source": [
    "``` \n",
    "Function and Class Object Methods Identification / difference\n",
    "*   variable.method() <-- Method \n",
    "\n",
    "```"
   ]
  },
  {
   "cell_type": "code",
   "execution_count": 1,
   "metadata": {},
   "outputs": [
    {
     "name": "stdout",
     "output_type": "stream",
     "text": [
      "pakistan\n"
     ]
    },
    {
     "data": {
      "text/plain": [
       "None"
      ]
     },
     "metadata": {},
     "output_type": "display_data"
    }
   ],
   "source": [
    "a : str = print(\"pakistan\") # if value comes in it, means it is a return Function if not it is non return | None\n",
    "\n",
    "display(a) # Print is a non return function, they are global function and are not belonging to class, er should known about main global functions and how they made"
   ]
  },
  {
   "cell_type": "code",
   "execution_count": 2,
   "metadata": {},
   "outputs": [
    {
     "data": {
      "text/plain": [
       "3"
      ]
     },
     "metadata": {},
     "output_type": "display_data"
    }
   ],
   "source": [
    "a : int = len(\"Pak\") # return function\n",
    "display(a)"
   ]
  },
  {
   "cell_type": "markdown",
   "metadata": {},
   "source": [
    "``` Custom Function, Custom Classes, Custom Models, Custom packages Milestones for Later ```"
   ]
  },
  {
   "cell_type": "markdown",
   "metadata": {},
   "source": [
    "### Default Function :  A function which takes no Arguments"
   ]
  },
  {
   "cell_type": "code",
   "execution_count": 3,
   "metadata": {},
   "outputs": [
    {
     "name": "stdout",
     "output_type": "stream",
     "text": [
      "PIAIC\n",
      "Python course\n"
     ]
    }
   ],
   "source": [
    "def piaic() ->None: # Declaration\n",
    "# Body start\n",
    "    print(\"PIAIC\") # statement 1 \n",
    "    print(\"Python course\") # Statement 2\n",
    "# body Ends\n",
    "piaic()"
   ]
  },
  {
   "cell_type": "code",
   "execution_count": 4,
   "metadata": {},
   "outputs": [
    {
     "name": "stdout",
     "output_type": "stream",
     "text": [
      "PIAIC\n",
      "Python course\n",
      "PIAIC\n",
      "Python course\n"
     ]
    }
   ],
   "source": [
    "piaic() # also if done some edits it updates everywhere after re run\n",
    "piaic()"
   ]
  },
  {
   "cell_type": "markdown",
   "metadata": {},
   "source": [
    "## Required Parameter Function"
   ]
  },
  {
   "cell_type": "code",
   "execution_count": 42,
   "metadata": {},
   "outputs": [
    {
     "name": "stdout",
     "output_type": "stream",
     "text": [
      "Num1 Value 5 ad num 2 value 10\n"
     ]
    },
    {
     "data": {
      "text/plain": [
       "15"
      ]
     },
     "execution_count": 42,
     "metadata": {},
     "output_type": "execute_result"
    }
   ],
   "source": [
    "def add_two_number(num1: int, num2: int)->int: # both are required params otherwise error genorated\n",
    "    print(f\"Num1 Value {num1} ad num 2 value {num2}\")\n",
    "    return num1 + num2\n",
    "add_two_number(5,10) # arg 1 and arg , Positional arguments"
   ]
  },
  {
   "cell_type": "code",
   "execution_count": 38,
   "metadata": {},
   "outputs": [
    {
     "name": "stdout",
     "output_type": "stream",
     "text": [
      "Num1 Value 10 ad num 2 value 5\n"
     ]
    },
    {
     "data": {
      "text/plain": [
       "15"
      ]
     },
     "execution_count": 38,
     "metadata": {},
     "output_type": "execute_result"
    }
   ],
   "source": [
    "# Calling through Key Word Arguments\n",
    "# Also there is no need to define \n",
    "\n",
    "def add_two_number(num1: int, num2: int)->int: # both are required params otherwise error will be generates\n",
    "    print(f\"Num1 Value {num1} ad num 2 value {num2}\")\n",
    "    return num1 + num2\n",
    "add_two_number(num2=5,num1=10) # key word arguments "
   ]
  },
  {
   "cell_type": "markdown",
   "metadata": {},
   "source": [
    "## Function with Optional Parameters"
   ]
  },
  {
   "cell_type": "code",
   "execution_count": 8,
   "metadata": {},
   "outputs": [
    {
     "name": "stdout",
     "output_type": "stream",
     "text": [
      "7 0\n",
      "7 2\n"
     ]
    },
    {
     "data": {
      "text/plain": [
       "9"
      ]
     },
     "execution_count": 8,
     "metadata": {},
     "output_type": "execute_result"
    }
   ],
   "source": [
    "def add_two_numbers(num1: int, num2: int = 0)-> int:\n",
    "    print(num1, num2)\n",
    "    return num1 + num2 \n",
    "\n",
    "add_two_numbers(7)\n",
    "add_two_numbers(7, 2) # if num2 added value get overwrite"
   ]
  },
  {
   "cell_type": "markdown",
   "metadata": {},
   "source": [
    "### Lambda/ Anonymous Function Syntax:\n",
    "\n",
    "* One line function\n",
    "* without name function\n",
    "* only use in this line\n",
    "\n",
    "```\n",
    "lambda param1, param2 : function body\n",
    "```\n",
    "Utilization: working with micro controllers as memory is very siginificant and usual function takes storage on backend, we need that when code runs it consumes memory perform task and release memory that is why we use lambda Function"
   ]
  },
  {
   "cell_type": "code",
   "execution_count": 9,
   "metadata": {},
   "outputs": [
    {
     "data": {
      "text/plain": [
       "15"
      ]
     },
     "execution_count": 9,
     "metadata": {},
     "output_type": "execute_result"
    }
   ],
   "source": [
    "a = lambda num1, num2 : num1 + num2 # function calling will be done through assigning in a variable\n",
    "a(7,8)"
   ]
  },
  {
   "cell_type": "code",
   "execution_count": 10,
   "metadata": {},
   "outputs": [
    {
     "data": {
      "text/plain": [
       "[1, 4, 9, 16, 25, 36, 49]"
      ]
     },
     "execution_count": 10,
     "metadata": {},
     "output_type": "execute_result"
    }
   ],
   "source": [
    "# Map and Filter Function that we can apply on Iterated Data Types and Lambda function is being excessively used there\n",
    "# we want to apply a function which runs on list for a particular time and it will multiply every value by 2\n",
    "\n",
    "\n",
    "data : list[int] = [1, 2, 3, 4, 5, 6, 7]\n",
    "\n",
    "data = list(map(lambda x:x**2 ,  data))   \n",
    "\n",
    "# map takes in function and a Iterated DT, and will apply lambda func, this lambda \n",
    "# function performs iteration, one extratced value comes in x variable this function performs iteration on particular list.\n",
    "# as this is a generator function we have to apply a list.\n",
    "\n",
    "data "
   ]
  },
  {
   "cell_type": "markdown",
   "metadata": {},
   "source": [
    "## Filter Function"
   ]
  },
  {
   "cell_type": "code",
   "execution_count": null,
   "metadata": {},
   "outputs": [],
   "source": [
    "data : list[int] = [1, 2, 3, 4, 5, 6, 7]\n",
    "\n",
    "data = list(filter(lambda x:x%2==0 ,  data)) \n",
    "# this lambda function return true and leaves false values and all even values and being a generator function we have to apply list    "
   ]
  },
  {
   "cell_type": "code",
   "execution_count": null,
   "metadata": {},
   "outputs": [],
   "source": [
    "from typing import Callable\n",
    "\n",
    "add: Callable[[int, int], int] =  lambda x, y: x + y\n",
    "result = add(10, 20)  # result will be 30 \n",
    "print(result)"
   ]
  },
  {
   "cell_type": "markdown",
   "metadata": {},
   "source": [
    "## Generator Function\n",
    "* Itreates on element one by one\n",
    "* Stops after each iteration\n",
    "* remembers old Itertaion Value (last Iterated Value)\n",
    "* next Iteration\n",
    "    * move forward from last Iterated Value\n",
    "* Generator Function is Iterator sub type\n",
    "\n",
    "Usage: working on Big data is impossible without generator Function"
   ]
  },
  {
   "cell_type": "code",
   "execution_count": 20,
   "metadata": {},
   "outputs": [
    {
     "name": "stdout",
     "output_type": "stream",
     "text": [
      "[1, 2, 3, 4, 5, 6, 7, 8, 9, 10]\n"
     ]
    }
   ],
   "source": [
    "def my_range(start: int, end: int, step: int=1):\n",
    "    for i in range(start, end+1, step):\n",
    "        yield i # Yield Keyword is an Identification of Generator function\n",
    "# Generator function moves by doing Itertaion one by one \n",
    "a = my_range(1, 10,)\n",
    "print(list(a))"
   ]
  },
  {
   "cell_type": "code",
   "execution_count": 18,
   "metadata": {},
   "outputs": [
    {
     "name": "stdout",
     "output_type": "stream",
     "text": [
      "<generator object my_range at 0x000001DF24F275B0>\n",
      "1\n",
      "2\n",
      "3\n"
     ]
    }
   ],
   "source": [
    "# Application of Next function for performing single iterations\n",
    "a = my_range(1, 10, )\n",
    "print(a)\n",
    "print(next(a))\n",
    "print(next(a))\n",
    "print(next(a))\n"
   ]
  },
  {
   "cell_type": "code",
   "execution_count": null,
   "metadata": {},
   "outputs": [],
   "source": [
    "# Collection.abc is collection from abstract classes \n",
    "# For Reference \n",
    "\n",
    "from collections.abc import Iterator  \n",
    "MyDict = Dict[str, object] # for example\n",
    "\n",
    "def yield_func()-> Iterator[MyDictT]:\n",
    "    a: MyDictT = {}     \n",
    "    b: MyDictT = {}\n",
    "    ...\n",
    "    yield a\n",
    "    yield b"
   ]
  },
  {
   "cell_type": "code",
   "execution_count": 26,
   "metadata": {},
   "outputs": [
    {
     "name": "stdout",
     "output_type": "stream",
     "text": [
      "1\n",
      "<class 'generator'>\n"
     ]
    }
   ],
   "source": [
    "from collections.abc import Iterator \n",
    "\n",
    "def my_range(start: int, end: int, step: int=1)->Iterator[int]:# always type will be dictionary and str & Object is its key and value\n",
    "    for i in range(start, end+1, step):\n",
    "        yield i\n",
    "\n",
    "iterator_variable : Iterator[int] = my_range(1, 10,)\n",
    "print(next(iterator_variable))  \n",
    "print(type(iterator_variable))  "
   ]
  },
  {
   "cell_type": "code",
   "execution_count": 27,
   "metadata": {},
   "outputs": [
    {
     "name": "stdout",
     "output_type": "stream",
     "text": [
      "2\n",
      "3\n",
      "4\n",
      "5\n",
      "6\n",
      "7\n",
      "8\n",
      "9\n",
      "10\n"
     ]
    }
   ],
   "source": [
    "for i in iterator_variable:\n",
    "    print(i)"
   ]
  },
  {
   "cell_type": "markdown",
   "metadata": {},
   "source": [
    "## Passing Unlimited Arguments"
   ]
  },
  {
   "cell_type": "code",
   "execution_count": 36,
   "metadata": {},
   "outputs": [
    {
     "name": "stdout",
     "output_type": "stream",
     "text": [
      "(1, 2, 3, 3, 5, 6) <class 'tuple'>\n"
     ]
    },
    {
     "data": {
      "text/plain": [
       "20"
      ]
     },
     "execution_count": 36,
     "metadata": {},
     "output_type": "execute_result"
    }
   ],
   "source": [
    "# when we have unlimited arguments we write * with a variable name\n",
    "\n",
    "def abc(*nums):\n",
    "    print(nums, type(nums))\n",
    "    total = 0\n",
    "    for n in nums:\n",
    "        total += n  # Old Way\n",
    "    return total \n",
    "\n",
    "\n",
    "abc(1, 2, 3, 3, 5, 6) # Unlimited arguments recieved in the form of Tuple\n",
    "\n"
   ]
  },
  {
   "cell_type": "code",
   "execution_count": 37,
   "metadata": {},
   "outputs": [],
   "source": [
    "def xyx(**kargs): # old way with ** we can see varibale and its type as well\n",
    "    print(kargs, type(kargs))\n",
    "xyz()"
   ]
  },
  {
   "cell_type": "markdown",
   "metadata": {},
   "source": [
    "### Unlimited Key Word Arguments"
   ]
  },
  {
   "cell_type": "code",
   "execution_count": 45,
   "metadata": {},
   "outputs": [
    {
     "name": "stdout",
     "output_type": "stream",
     "text": [
      "{'a': 7, 'b': 20, 'c': 5, 'd': 9} <class 'dict'>\n"
     ]
    }
   ],
   "source": [
    "# Transitional way\n",
    "\n",
    "def xyz(**kargs): # old way with ** we can see variable and its type as well        \n",
    "    print(kargs, type(kargs))\n",
    "xyz(a=7, b=20, c=5, d=9) # Recieved as a Dictionary then we can put further logic "
   ]
  },
  {
   "cell_type": "code",
   "execution_count": 50,
   "metadata": {},
   "outputs": [
    {
     "name": "stdout",
     "output_type": "stream",
     "text": [
      "1 2 (<function abc at 0x000001DF255E9C60>, 123, 9, 9) {'c': 123, 'd': 677}\n"
     ]
    }
   ],
   "source": [
    "def my_function(a, b, *abc, **xyz):\n",
    "    print(a, b, abc, xyz)\n",
    "my_function(1, 2, abc, 123, 9, 9 , c=123, d=  677)"
   ]
  },
  {
   "cell_type": "markdown",
   "metadata": {},
   "source": [
    "### Doing through Static type, new way"
   ]
  },
  {
   "cell_type": "code",
   "execution_count": 29,
   "metadata": {},
   "outputs": [
    {
     "name": "stdout",
     "output_type": "stream",
     "text": [
      "Hello  Monica\n",
      "Hello  Luke\n",
      "Hello steve\n"
     ]
    }
   ],
   "source": [
    "from typing import Tuple\n",
    "\n",
    "def greet(*names : Tuple[str,...])-> None: # For Passing Unlimited parameter with dt tuple and defined tuple DT\n",
    "    \"\"\"\n",
    "    This function greets all persons in the names tuple.\n",
    "    \"\"\"\n",
    "    for name in names:\n",
    "        print(\"Hello\", name)\n",
    "greet(\" Monica\", \" Luke\", \"steve\")"
   ]
  },
  {
   "cell_type": "code",
   "execution_count": 54,
   "metadata": {},
   "outputs": [
    {
     "name": "stdout",
     "output_type": "stream",
     "text": [
      "{'a': '1', 'b': '2'}\n"
     ]
    }
   ],
   "source": [
    "#   Dictionary Part\n",
    "\n",
    "from typing import Dict\n",
    "# we can write Dict below without importing as well\n",
    "def greet(**xyz: Dict[str, str])-> None: #  \n",
    "    print(xyz)\n",
    "greet(a= \"1\", b= \"2\") # can pass unlimited keyword arguments "
   ]
  },
  {
   "cell_type": "code",
   "execution_count": 57,
   "metadata": {},
   "outputs": [
    {
     "name": "stdout",
     "output_type": "stream",
     "text": [
      "1 2 (<function abc at 0x000001DF255E9C60>, 123, 9, 9) {'c': 123, 'd': 677}\n"
     ]
    }
   ],
   "source": [
    "# Converting in Typing,can make functions directly with unlimited keys and values\n",
    "\n",
    "\n",
    "def my_function(a: int, b: int, *abc: int, **xyz: int)->None:\n",
    "    print(a, b, abc, xyz)\n",
    "my_function(1, 2, abc, 123, 9, 9 , c=123, d=  677)"
   ]
  },
  {
   "cell_type": "markdown",
   "metadata": {},
   "source": [
    "# Decorator Function\n",
    "* Connecting one function with another, when we make function we define Route, and route is defined through Iterator\n",
    "* Connects general Function with Custom function"
   ]
  },
  {
   "cell_type": "code",
   "execution_count": null,
   "metadata": {},
   "outputs": [],
   "source": [
    "from typing import Callable\n",
    "\n",
    "def decorator(func: Callable[[], None]) -> Callable[[], None]: \n",
    "    def wrapper() -> None: \n",
    "        print(\" something is happening before the function is called.\")\n",
    "        func()\n",
    "        print(\"Something is happening After the Function is called.\")\n",
    "        return wrapper \n",
    "@Decorator              # This Decorator Function Connected Two Functions\n",
    "def say_hello() ->None: # this is normal function\n",
    "    print(\"Hello!\")\n",
    "say_hello() "
   ]
  },
  {
   "cell_type": "code",
   "execution_count": null,
   "metadata": {},
   "outputs": [],
   "source": [
    "from typing import Callable\n",
    "\n",
    "def my_decorator(func: Callable[[int], None]) -> Callable[[int], None]: \n",
    "    def wrapper(num1: int) -> None: \n",
    "        print(\" something is happening before the function is called.\")\n",
    "        func(num1)\n",
    "        print(\"Something is hapening After the Function is called.\")\n",
    "        return wrapper \n",
    "@Decorator             \n",
    "def say_hello(num1: int) ->None: \n",
    "    print(num1)\n",
    "say_hello(100)"
   ]
  },
  {
   "cell_type": "markdown",
   "metadata": {},
   "source": [
    "## Recursive Function\n",
    "* a function call itself inside it\n",
    "* recursion is Infinite and need to be stopped"
   ]
  },
  {
   "cell_type": "code",
   "execution_count": 60,
   "metadata": {},
   "outputs": [
    {
     "name": "stdout",
     "output_type": "stream",
     "text": [
      "The Factorial of  5 is 120\n"
     ]
    }
   ],
   "source": [
    "def factorial(x: int) ->int: \n",
    "    \"\"\"\n",
    "    This is Factorial Function to \n",
    "    to find a factorial of an Integer \"\"\"\n",
    "    if x == 1:\n",
    "        return 1\n",
    "    else: \n",
    "        return (x * factorial (x-1))\n",
    "    #           5*4*3*2*1 = 120\n",
    "num =5 \n",
    "print(\"The Factorial of \", num, \"is\", factorial(num) )"
   ]
  }
 ],
 "metadata": {
  "kernelspec": {
   "display_name": "python12",
   "language": "python",
   "name": "python3"
  },
  "language_info": {
   "codemirror_mode": {
    "name": "ipython",
    "version": 3
   },
   "file_extension": ".py",
   "mimetype": "text/x-python",
   "name": "python",
   "nbconvert_exporter": "python",
   "pygments_lexer": "ipython3",
   "version": "3.12.0"
  }
 },
 "nbformat": 4,
 "nbformat_minor": 2
}
