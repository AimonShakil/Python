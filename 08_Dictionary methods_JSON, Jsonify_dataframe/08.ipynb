{
 "cells": [
  {
   "cell_type": "markdown",
   "metadata": {},
   "source": [
    "# Dictionary Data Type\n",
    "* `Overview`\n",
    "* Need: before dict we had iterative dT list , set and Tuple in these DT we store elements based on index value also values can be extracted based on the Index\n",
    "* on Set DT iterataions cannot be performed, typecasting can be used with the help of list through which we can perform iteration"
   ]
  },
  {
   "cell_type": "code",
   "execution_count": 4,
   "metadata": {},
   "outputs": [
    {
     "name": "stdout",
     "output_type": "stream",
     "text": [
      "['clear', 'copy', 'fromkeys', 'get', 'items', 'keys', 'pop', 'popitem', 'setdefault', 'update', 'values']\n"
     ]
    }
   ],
   "source": [
    "from typing import Dict, Union, Optional\n",
    "import pprint\n",
    "\n",
    "Key = Union[int, str] # Custom Datatype: defining a new DT for Key, In Key hashable DT can be put in \n",
    "Value = Union[int, str, list, dict, tuple, set] \n",
    "data : Dict[Key, Value] = {\n",
    "                        \"name\": \"MK\",  # Key value pair makes and Item\n",
    "                        \"fname\" : \"Velantion\", \n",
    "                        \"education\": \"MFDS\"\n",
    "                        } \n",
    "methods : list[str] = [m for m in dir(data) if \"__\" not in m] \n",
    "print(methods)     "
   ]
  },
  {
   "cell_type": "markdown",
   "metadata": {},
   "source": [
    "# Clear Method"
   ]
  },
  {
   "cell_type": "code",
   "execution_count": 6,
   "metadata": {},
   "outputs": [
    {
     "name": "stdout",
     "output_type": "stream",
     "text": [
      "Before {'name': 'MK', 'fname': 'Velantion', 'education': 'MFDS'}\n",
      "After {}\n"
     ]
    }
   ],
   "source": [
    "from typing import Dict, Union, Optional\n",
    "import pprint\n",
    "\n",
    "Key = Union[int, str] # Custom Datatype: defining a new DT for Key, In Key hashable DT can be put in \n",
    "Value = Union[int, str, list, dict, tuple, set] \n",
    "data : Dict[Key, Value] = {\n",
    "                        \"name\": \"MK\",  # Key value pair makes and Item\n",
    "                        \"fname\" : \"Velantion\", \n",
    "                        \"education\": \"MFDS\"\n",
    "                        } \n",
    "print(\"Before\", data)\n",
    "data.clear()   # Empties data removes all key value pair\n",
    "print(\"After\" , data)"
   ]
  },
  {
   "cell_type": "code",
   "execution_count": 2,
   "metadata": {},
   "outputs": [
    {
     "name": "stdout",
     "output_type": "stream",
     "text": [
      "Before {'name': 'MK', 'fname': 'Velantion', 'education': 'MFDS'}\n"
     ]
    },
    {
     "ename": "AttributeError",
     "evalue": "'dict' object has no attribute 'Del'",
     "output_type": "error",
     "traceback": [
      "\u001b[1;31m---------------------------------------------------------------------------\u001b[0m",
      "\u001b[1;31mAttributeError\u001b[0m                            Traceback (most recent call last)",
      "Cell \u001b[1;32mIn[2], line 14\u001b[0m\n\u001b[0;32m      8\u001b[0m data : Dict[Key, Value] \u001b[38;5;241m=\u001b[39m {\n\u001b[0;32m      9\u001b[0m                         \u001b[38;5;124m\"\u001b[39m\u001b[38;5;124mname\u001b[39m\u001b[38;5;124m\"\u001b[39m: \u001b[38;5;124m\"\u001b[39m\u001b[38;5;124mMK\u001b[39m\u001b[38;5;124m\"\u001b[39m,  \u001b[38;5;66;03m# Key value pair makes and Item\u001b[39;00m\n\u001b[0;32m     10\u001b[0m                         \u001b[38;5;124m\"\u001b[39m\u001b[38;5;124mfname\u001b[39m\u001b[38;5;124m\"\u001b[39m : \u001b[38;5;124m\"\u001b[39m\u001b[38;5;124mVelantion\u001b[39m\u001b[38;5;124m\"\u001b[39m, \n\u001b[0;32m     11\u001b[0m                         \u001b[38;5;124m\"\u001b[39m\u001b[38;5;124meducation\u001b[39m\u001b[38;5;124m\"\u001b[39m: \u001b[38;5;124m\"\u001b[39m\u001b[38;5;124mMFDS\u001b[39m\u001b[38;5;124m\"\u001b[39m\n\u001b[0;32m     12\u001b[0m                         } \n\u001b[0;32m     13\u001b[0m \u001b[38;5;28mprint\u001b[39m(\u001b[38;5;124m\"\u001b[39m\u001b[38;5;124mBefore\u001b[39m\u001b[38;5;124m\"\u001b[39m, data)\n\u001b[1;32m---> 14\u001b[0m \u001b[43mdata\u001b[49m\u001b[38;5;241;43m.\u001b[39;49m\u001b[43mDel\u001b[49m()  \u001b[38;5;66;03m# deletes whole object and shows error as object is not available\u001b[39;00m\n\u001b[0;32m     15\u001b[0m \u001b[38;5;28mprint\u001b[39m(\u001b[38;5;124m\"\u001b[39m\u001b[38;5;124mAfter\u001b[39m\u001b[38;5;124m\"\u001b[39m , data)\n",
      "\u001b[1;31mAttributeError\u001b[0m: 'dict' object has no attribute 'Del'"
     ]
    }
   ],
   "source": [
    "# Whole Object Deletion from Del\n",
    "\n",
    "from typing import Dict, Union, Optional\n",
    "import pprint\n",
    "\n",
    "Key = Union[int, str] # Custom Datatype: defining a new DT for Key, In Key hashable DT can be put in \n",
    "Value = Union[int, str, list, dict, tuple, set] \n",
    "data : Dict[Key, Value] = {\n",
    "                        \"name\": \"MK\",  # Key value pair makes and Item\n",
    "                        \"fname\" : \"Velantion\", \n",
    "                        \"education\": \"MFDS\"\n",
    "                        } \n",
    "print(\"Before\", data)\n",
    "data.Del()  # deletes whole object and shows error as object is not available\n",
    "print(\"After\" , data)"
   ]
  },
  {
   "cell_type": "markdown",
   "metadata": {},
   "source": [
    "# PoP Method"
   ]
  },
  {
   "cell_type": "code",
   "execution_count": 9,
   "metadata": {},
   "outputs": [
    {
     "name": "stdout",
     "output_type": "stream",
     "text": [
      "Before {'name': 'MK', 'fname': 'Velantion', 'education': 'MFDS'}\n",
      "After {'name': 'MK', 'fname': 'Velantion'}\n",
      "MFDS\n"
     ]
    }
   ],
   "source": [
    "from typing import Dict, Union, Optional\n",
    "import pprint\n",
    "\n",
    "Key = Union[int, str] # Custom Datatype: defining a new DT for Key, In Key hashable DT can be put in \n",
    "Value = Union[int, str, list, dict, tuple, set] \n",
    "data : Dict[Key, Value] = {\n",
    "                        \"name\": \"MK\",  # Key value pair makes and Item\n",
    "                        \"fname\" : \"Velantion\", \n",
    "                        \"education\": \"MFDS\"\n",
    "                        } \n",
    "print(\"Before\", data)\n",
    "a : str = data.pop(\"education\")   #  its a return function can put in variable for further utilization\n",
    "print(\"After\", data)\n",
    "print(a)"
   ]
  },
  {
   "cell_type": "markdown",
   "metadata": {},
   "source": [
    "# PoP Item"
   ]
  },
  {
   "cell_type": "code",
   "execution_count": 12,
   "metadata": {},
   "outputs": [
    {
     "name": "stdout",
     "output_type": "stream",
     "text": [
      "Before {'name': 'MK', 'fname': 'Velantion', 'education': 'MFDS'}\n",
      "After {'name': 'MK', 'fname': 'Velantion'}\n",
      "('education', 'MFDS')\n"
     ]
    }
   ],
   "source": [
    "from typing import Dict, Union, Optional\n",
    "import pprint\n",
    "\n",
    "Key = Union[int, str] # Custom Datatype: defining a new DT for Key, In Key hashable DT can be put in \n",
    "Value = Union[int, str, list, dict, tuple, set] \n",
    "data : Dict[Key, Value] = {\n",
    "                        \"name\": \"MK\",  # Key value pair makes and Item\n",
    "                        \"fname\" : \"Velantion\", \n",
    "                        \"education\": \"MFDS\"\n",
    "                        } \n",
    "print(\"Before\", data)\n",
    "a : str = data.popitem()   #  its aremoves last key value item\n",
    "print(\"After\", data)\n",
    "print(a)"
   ]
  },
  {
   "cell_type": "markdown",
   "metadata": {},
   "source": [
    "# Get Method"
   ]
  },
  {
   "cell_type": "code",
   "execution_count": 13,
   "metadata": {},
   "outputs": [
    {
     "name": "stdout",
     "output_type": "stream",
     "text": [
      "Before {'name': 'MK', 'fname': 'Velantion', 'education': 'MFDS'}\n",
      "After {'name': 'MK', 'fname': 'Velantion', 'education': 'MFDS'}\n",
      "NA\n"
     ]
    }
   ],
   "source": [
    "from typing import Dict, Union, Optional\n",
    "import pprint\n",
    "\n",
    "Key = Union[int, str] # Custom Datatype: defining a new DT for Key, In Key hashable DT can be put in \n",
    "Value = Union[int, str, list, dict, tuple, set] \n",
    "data : Dict[Key, Value] = {\n",
    "                        \"name\": \"MK\",  # Key value pair makes and Item\n",
    "                        \"fname\" : \"Velantion\", \n",
    "                        \"education\": \"MFDS\"\n",
    "                        } \n",
    "print(\"Before\", data)\n",
    "a : str = data.get(\"Pakistan\", \"NA\" )   #  its a return function can put in variable for further utilization\n",
    "print(\"After\", data)\n",
    "print(a) # in real Object Key from name of Pakistan is not being added as get function dont let generate error "
   ]
  },
  {
   "cell_type": "markdown",
   "metadata": {},
   "source": [
    "# Set Default"
   ]
  },
  {
   "cell_type": "code",
   "execution_count": 15,
   "metadata": {},
   "outputs": [
    {
     "name": "stdout",
     "output_type": "stream",
     "text": [
      "Before {'name': 'MK', 'fname': 'Velantion', 'education': 'MFDS'}\n",
      "After {'name': 'MK', 'fname': 'Velantion', 'education': 'MFDS', 'Pakistan': 'Empty Value'}\n",
      "Empty Value\n"
     ]
    }
   ],
   "source": [
    "from typing import Dict, Union, Optional\n",
    "import pprint\n",
    "\n",
    "Key = Union[int, str] # Custom Datatype: defining a new DT for Key, In Key hashable DT can be put in \n",
    "Value = Union[int, str, list, dict, tuple, set] \n",
    "data : Dict[Key, Value] = {\n",
    "                        \"name\": \"MK\",  # Key value pair makes and Item\n",
    "                        \"fname\" : \"Velantion\", \n",
    "                        \"education\": \"MFDS\"\n",
    "                        } \n",
    "print(\"Before\", data)\n",
    "a : str = data.setdefault(\"Pakistan\" , \"Empty Value\")   #  its search pakistan key and value added in\n",
    "print(\"After\", data)\n",
    "print(a)"
   ]
  },
  {
   "cell_type": "markdown",
   "metadata": {},
   "source": [
    "# Update Method"
   ]
  },
  {
   "cell_type": "code",
   "execution_count": 16,
   "metadata": {},
   "outputs": [
    {
     "data": {
      "text/plain": [
       "{'name': 'Amcucm',\n",
       " 'fname': 'Velantion',\n",
       " 'education': 'MFDS',\n",
       " 'age': 30,\n",
       " 'Height': '5F'}"
      ]
     },
     "execution_count": 16,
     "metadata": {},
     "output_type": "execute_result"
    }
   ],
   "source": [
    "# Want to update in data already in data variable\n",
    "\n",
    "from typing import Dict, Union, Optional\n",
    "import pprint\n",
    "\n",
    "Key = Union[int, str] # Custom Datatype: defining a new DT for Key, In Key hashable DT can be put in \n",
    "Value = Union[int, str, list, dict, tuple, set] \n",
    "data : Dict[Key, Value] = {\n",
    "                        \"name\": \"MK\",  # Key value pair makes and Item\n",
    "                        \"fname\" : \"Velantion\", \n",
    "                        \"education\": \"MFDS\"\n",
    "                        } \n",
    "data1 : Dict [Key, Value] = {\"name\": \"Amcucm\", # data 1 has some new and old key value\n",
    "                              \"age\": 30,\n",
    "                              \"Height\" : \"5F\" }\n",
    "data.update(data1)\n",
    "data # existing updated and new added in"
   ]
  },
  {
   "cell_type": "markdown",
   "metadata": {},
   "source": [
    "# Dictinary Usage \n",
    "* In DBs we use data frame which is tabular data which will be done through Pandas later"
   ]
  },
  {
   "cell_type": "code",
   "execution_count": 17,
   "metadata": {},
   "outputs": [
    {
     "data": {
      "text/html": [
       "<div>\n",
       "<style scoped>\n",
       "    .dataframe tbody tr th:only-of-type {\n",
       "        vertical-align: middle;\n",
       "    }\n",
       "\n",
       "    .dataframe tbody tr th {\n",
       "        vertical-align: top;\n",
       "    }\n",
       "\n",
       "    .dataframe thead th {\n",
       "        text-align: right;\n",
       "    }\n",
       "</style>\n",
       "<table border=\"1\" class=\"dataframe\">\n",
       "  <thead>\n",
       "    <tr style=\"text-align: right;\">\n",
       "      <th></th>\n",
       "      <th>roll no</th>\n",
       "      <th>Name</th>\n",
       "      <th>education</th>\n",
       "    </tr>\n",
       "  </thead>\n",
       "  <tbody>\n",
       "    <tr>\n",
       "      <th>0</th>\n",
       "      <td>1</td>\n",
       "      <td>amcucum</td>\n",
       "      <td>MS</td>\n",
       "    </tr>\n",
       "    <tr>\n",
       "      <th>1</th>\n",
       "      <td>2</td>\n",
       "      <td>sk</td>\n",
       "      <td>MS</td>\n",
       "    </tr>\n",
       "    <tr>\n",
       "      <th>2</th>\n",
       "      <td>3</td>\n",
       "      <td>MK</td>\n",
       "      <td>MS</td>\n",
       "    </tr>\n",
       "  </tbody>\n",
       "</table>\n",
       "</div>"
      ],
      "text/plain": [
       "   roll no     Name education\n",
       "0        1  amcucum        MS\n",
       "1        2       sk        MS\n",
       "2        3       MK        MS"
      ]
     },
     "execution_count": 17,
     "metadata": {},
     "output_type": "execute_result"
    }
   ],
   "source": [
    "import pandas as pd\n",
    "from typing import Any\n",
    "\n",
    "student_data : Dict[str, list[Any]] = {  # this is a Dictionary, and storing a data of a particular individual Object , but whatever kind of structre is this we convery to excel format for applying multiple functionalities\n",
    "    \"roll no\" : [1, 2, 3],\n",
    "    \"Name\" : [\"amcucum\" , \"sk\", \"mK\"],\n",
    "    \"education\" : [\"MS\", \"MS\" , \"MS\"]\n",
    "}\n",
    "\n",
    "df : pd.DataFrame = pd.DataFrame(student_data)\n",
    "df # on colab with this we can apply excelfilters on this , save, manipulate analyze make graphs \n",
    "# Dictionary later on converts to tabular data and can further do connectivity with mongo db"
   ]
  },
  {
   "cell_type": "markdown",
   "metadata": {},
   "source": [
    "* Prodogy Library is paid, Prodogy data goes in jsonl (large , big data we store in jsonl format) file on which ever data we test"
   ]
  },
  {
   "cell_type": "code",
   "execution_count": null,
   "metadata": {},
   "outputs": [],
   "source": [
    "Aliens_code"
   ]
  },
  {
   "cell_type": "code",
   "execution_count": 20,
   "metadata": {},
   "outputs": [
    {
     "name": "stdout",
     "output_type": "stream",
     "text": [
      "Hi Jen.\n",
      "Hi Edward.\n",
      "Hi Phil.\n",
      "\tPhil, I see you Love C!\n",
      "Hi Sarah.\n",
      "\tSarah, I see you Love Ts!\n"
     ]
    }
   ],
   "source": [
    "favorite_languages = {\n",
    "    'jen' : 'python',\n",
    "    'edward' : 'rust',\n",
    "    'phil' : 'C',\n",
    "    'sarah' : 'TS'\n",
    "}\n",
    "\n",
    "friends = ['phil','sarah']\n",
    "for name in favorite_languages.keys():\n",
    "    print(f\"Hi {name.title()}.\")\n",
    "    if name in friends:\n",
    "        language = favorite_languages[name].title()\n",
    "        print(f\"\\t{name.title()}, I see you Love {language}!\")"
   ]
  },
  {
   "cell_type": "code",
   "execution_count": null,
   "metadata": {},
   "outputs": [],
   "source": [
    "# when we search in list it checks element by element "
   ]
  },
  {
   "cell_type": "code",
   "execution_count": 21,
   "metadata": {},
   "outputs": [
    {
     "name": "stdout",
     "output_type": "stream",
     "text": [
      "True\n",
      "dict_keys(['jen', 'edward', 'phil', 'sarah'])\n"
     ]
    }
   ],
   "source": [
    "print('erin' not in favorite_languages.keys())\n",
    "print(favorite_languages.keys())"
   ]
  },
  {
   "cell_type": "code",
   "execution_count": 23,
   "metadata": {},
   "outputs": [
    {
     "data": {
      "text/plain": [
       "True"
      ]
     },
     "execution_count": 23,
     "metadata": {},
     "output_type": "execute_result"
    }
   ],
   "source": [
    "# Important Concept: From in Operator we can check substring part\n",
    "# when we match in string using in Operator so it searches content wise, means if find Amcucm any where it gives true\n",
    "\n",
    "# Regix concepts must be strong\n",
    "\n",
    "\"Amcucm\" in \"\"\" My name is ML Amcucm, I am J Dev \"\"\""
   ]
  },
  {
   "cell_type": "code",
   "execution_count": 22,
   "metadata": {},
   "outputs": [
    {
     "name": "stdout",
     "output_type": "stream",
     "text": [
      "Erin, please take our poll!\n"
     ]
    }
   ],
   "source": [
    "if 'erin' not in favorite_languages.keys():\n",
    "    print(\"Erin, please take our poll!\")"
   ]
  },
  {
   "cell_type": "code",
   "execution_count": 25,
   "metadata": {},
   "outputs": [
    {
     "name": "stdout",
     "output_type": "stream",
     "text": [
      "{'color': 'green', 'points': 5}\n",
      "{'color': 'yellow', 'points': 10}\n",
      "{'color': 'red', 'points': 15}\n"
     ]
    }
   ],
   "source": [
    "# JSON data present in the form of list of dictionaries \n",
    "alien_0  : list[Key, Value] = {'color' : 'green' , 'points' : 5}\n",
    "alien_1 : list[Key, Value]= {'color' : 'yellow' , 'points' : 10}\n",
    "alien_2 : list[Key, Value] = {'color' : 'red' , 'points' : 15}\n",
    "\n",
    "aliens : list[Dict[str, str]] = [alien_0, alien_1, alien_2] \n",
    "for alien in aliens: \n",
    "    print(alien)"
   ]
  },
  {
   "cell_type": "code",
   "execution_count": 28,
   "metadata": {},
   "outputs": [
    {
     "name": "stdout",
     "output_type": "stream",
     "text": [
      "[]\n",
      "[{'color': 'green', 'points': 5, 'speed': 'slow'},\n",
      " {'color': 'green', 'points': 5, 'speed': 'slow'},\n",
      " {'color': 'green', 'points': 5, 'speed': 'slow'},\n",
      " {'color': 'green', 'points': 5, 'speed': 'slow'},\n",
      " {'color': 'green', 'points': 5, 'speed': 'slow'},\n",
      " {'color': 'green', 'points': 5, 'speed': 'slow'},\n",
      " {'color': 'green', 'points': 5, 'speed': 'slow'},\n",
      " {'color': 'green', 'points': 5, 'speed': 'slow'},\n",
      " {'color': 'green', 'points': 5, 'speed': 'slow'},\n",
      " {'color': 'green', 'points': 5, 'speed': 'slow'},\n",
      " {'color': 'green', 'points': 5, 'speed': 'slow'},\n",
      " {'color': 'green', 'points': 5, 'speed': 'slow'},\n",
      " {'color': 'green', 'points': 5, 'speed': 'slow'},\n",
      " {'color': 'green', 'points': 5, 'speed': 'slow'},\n",
      " {'color': 'green', 'points': 5, 'speed': 'slow'},\n",
      " {'color': 'green', 'points': 5, 'speed': 'slow'},\n",
      " {'color': 'green', 'points': 5, 'speed': 'slow'},\n",
      " {'color': 'green', 'points': 5, 'speed': 'slow'},\n",
      " {'color': 'green', 'points': 5, 'speed': 'slow'},\n",
      " {'color': 'green', 'points': 5, 'speed': 'slow'},\n",
      " {'color': 'green', 'points': 5, 'speed': 'slow'},\n",
      " {'color': 'green', 'points': 5, 'speed': 'slow'},\n",
      " {'color': 'green', 'points': 5, 'speed': 'slow'},\n",
      " {'color': 'green', 'points': 5, 'speed': 'slow'},\n",
      " {'color': 'green', 'points': 5, 'speed': 'slow'},\n",
      " {'color': 'green', 'points': 5, 'speed': 'slow'},\n",
      " {'color': 'green', 'points': 5, 'speed': 'slow'},\n",
      " {'color': 'green', 'points': 5, 'speed': 'slow'},\n",
      " {'color': 'green', 'points': 5, 'speed': 'slow'},\n",
      " {'color': 'green', 'points': 5, 'speed': 'slow'}]\n"
     ]
    }
   ],
   "source": [
    "# make an empty list for strong aliens\n",
    "import pprint\n",
    "aliens : list[Dict[str,str]] = []\n",
    "\n",
    "print(aliens)\n",
    "# make 30 green aliens\n",
    "for alien_number in range(30):\n",
    "    new_alien = {'color' : 'green', 'points' : 5 , 'speed' : 'slow'}\n",
    "    aliens.append(new_alien)\n",
    "pprint.pprint(aliens)"
   ]
  },
  {
   "cell_type": "code",
   "execution_count": 29,
   "metadata": {},
   "outputs": [
    {
     "name": "stdout",
     "output_type": "stream",
     "text": [
      "[{'color': 'green', 'points': 5, 'speed': 'slow'},\n",
      " {'color': 'green', 'points': 5, 'speed': 'slow'},\n",
      " {'color': 'green', 'points': 5, 'speed': 'slow'},\n",
      " {'color': 'green', 'points': 5, 'speed': 'slow'},\n",
      " {'color': 'green', 'points': 5, 'speed': 'slow'}]\n"
     ]
    }
   ],
   "source": [
    "# Slicing\n",
    "pprint.pprint(aliens[ :5])"
   ]
  },
  {
   "cell_type": "code",
   "execution_count": 32,
   "metadata": {},
   "outputs": [
    {
     "name": "stdout",
     "output_type": "stream",
     "text": [
      "[{'color': 'yellow', 'points': '10', 'speed': 'medium'},\n",
      " {'color': 'yellow', 'points': '10', 'speed': 'medium'},\n",
      " {'color': 'yellow', 'points': '10', 'speed': 'medium'},\n",
      " {'color': 'green', 'points': 5, 'speed': 'slow'},\n",
      " {'color': 'green', 'points': 5, 'speed': 'slow'}]\n"
     ]
    }
   ],
   "source": [
    "for alien in aliens[:3]:\n",
    "    if alien['color'] =='green':\n",
    "        alien['color'] ='yellow'\n",
    "        alien['speed'] ='medium'\n",
    "        alien['points'] ='10'\n",
    "pprint.pprint(aliens[ :5]) # edited"
   ]
  },
  {
   "cell_type": "code",
   "execution_count": 33,
   "metadata": {},
   "outputs": [
    {
     "name": "stdout",
     "output_type": "stream",
     "text": [
      "{'name': 'MK', 'fname': 'Velantion', 'education': 'MFDS'}\n",
      "<class 'dict'>\n"
     ]
    }
   ],
   "source": [
    "from typing import Dict, Union, Optional\n",
    "import pprint\n",
    "\n",
    "Key = Union[int, str] # Custom Datatype: defining a new DT for Key, In Key hashable DT can be put in \n",
    "Value = Union[int, str, list, dict, tuple, set] \n",
    "data : Dict[Key, Value] = {\n",
    "                        \"name\": \"MK\",  # Key value pair makes and Item\n",
    "                        \"fname\" : \"Velantion\", \n",
    "                        \"education\": \"MFDS\"\n",
    "                        } \n",
    "print(data)\n",
    "print(type(data))"
   ]
  },
  {
   "cell_type": "code",
   "execution_count": 36,
   "metadata": {},
   "outputs": [
    {
     "name": "stdout",
     "output_type": "stream",
     "text": [
      "<class 'str'>\n",
      "{\n",
      "    \"name\": \"MK\",\n",
      "    \"fname\": \"Velantion\",\n",
      "    \"education\": \"MFDS\"\n",
      "}\n"
     ]
    }
   ],
   "source": [
    "# we wan to convert this Dict DT in JSON\n",
    "\n",
    "import json\n",
    "data1 = json.dumps(data , indent=4)\n",
    "print(type(data1))\n",
    "print(data1)"
   ]
  },
  {
   "cell_type": "code",
   "execution_count": null,
   "metadata": {},
   "outputs": [],
   "source": [
    "# Flask Application in .Py"
   ]
  }
 ],
 "metadata": {
  "kernelspec": {
   "display_name": "python12",
   "language": "python",
   "name": "python3"
  },
  "language_info": {
   "codemirror_mode": {
    "name": "ipython",
    "version": 3
   },
   "file_extension": ".py",
   "mimetype": "text/x-python",
   "name": "python",
   "nbconvert_exporter": "python",
   "pygments_lexer": "ipython3",
   "version": "3.12.0"
  }
 },
 "nbformat": 4,
 "nbformat_minor": 2
}
